{
  "nbformat": 4,
  "nbformat_minor": 0,
  "metadata": {
    "colab": {
      "provenance": [],
      "collapsed_sections": [
        "DESUpBgUxdlp",
        "4mnepoXVwhzc",
        "HMY-nWfMwduY",
        "NEDmMwBVwZPz",
        "zBRkX3A0wqTx",
        "zTneZRwXwu2X",
        "E767wdlpxBMo",
        "kO1iYPsFxOrY",
        "Zgb6KE6uxiq3",
        "2XSFoM4VDGO0",
        "hZmNyIYbFf_y",
        "kSVUJTnDIZEy"
      ]
    },
    "kernelspec": {
      "name": "python3",
      "display_name": "Python 3"
    },
    "language_info": {
      "name": "python"
    }
  },
  "cells": [
    {
      "cell_type": "markdown",
      "source": [
        "#Тема 6. Реализация гибридной модели рекомендаций"
      ],
      "metadata": {
        "id": "d4zrbnqdxZSo"
      }
    },
    {
      "cell_type": "markdown",
      "source": [
        "###1 часть – общий пример (2 балла)\n",
        "\n",
        "Цель: научиться использовать библиотеку LightFM для построения гибридной рекомендательной системы, а также оценить качество полученной модели на реальных данных.\n"
      ],
      "metadata": {
        "id": "DESUpBgUxdlp"
      }
    },
    {
      "cell_type": "markdown",
      "source": [
        "#####1.\tУстановить библиотеку LightFM"
      ],
      "metadata": {
        "id": "4mnepoXVwhzc"
      }
    },
    {
      "cell_type": "code",
      "source": [
        "!pip install lightfm"
      ],
      "metadata": {
        "colab": {
          "base_uri": "https://localhost:8080/"
        },
        "id": "x_Gj2SRGv16f",
        "outputId": "859602e7-6019-4643-c8fe-a4dfeefcff7b"
      },
      "execution_count": null,
      "outputs": [
        {
          "output_type": "stream",
          "name": "stdout",
          "text": [
            "Collecting lightfm\n",
            "  Downloading lightfm-1.17.tar.gz (316 kB)\n",
            "\u001b[?25l     \u001b[90m━━━━━━━━━━━━━━━━━━━━━━━━━━━━━━━━━━━━━━━━\u001b[0m \u001b[32m0.0/316.4 kB\u001b[0m \u001b[31m?\u001b[0m eta \u001b[36m-:--:--\u001b[0m\r\u001b[2K     \u001b[91m━━━━━━━━━━━━━━━━━━━━━━━━━━━━━━━━━━━━\u001b[0m\u001b[91m╸\u001b[0m\u001b[90m━\u001b[0m \u001b[32m307.2/316.4 kB\u001b[0m \u001b[31m11.4 MB/s\u001b[0m eta \u001b[36m0:00:01\u001b[0m\r\u001b[2K     \u001b[90m━━━━━━━━━━━━━━━━━━━━━━━━━━━━━━━━━━━━━━━\u001b[0m \u001b[32m316.4/316.4 kB\u001b[0m \u001b[31m6.9 MB/s\u001b[0m eta \u001b[36m0:00:00\u001b[0m\n",
            "\u001b[?25h  Preparing metadata (setup.py) ... \u001b[?25l\u001b[?25hdone\n",
            "Requirement already satisfied: numpy in /usr/local/lib/python3.11/dist-packages (from lightfm) (2.0.2)\n",
            "Requirement already satisfied: scipy>=0.17.0 in /usr/local/lib/python3.11/dist-packages (from lightfm) (1.14.1)\n",
            "Requirement already satisfied: requests in /usr/local/lib/python3.11/dist-packages (from lightfm) (2.32.3)\n",
            "Requirement already satisfied: scikit-learn in /usr/local/lib/python3.11/dist-packages (from lightfm) (1.6.1)\n",
            "Requirement already satisfied: charset-normalizer<4,>=2 in /usr/local/lib/python3.11/dist-packages (from requests->lightfm) (3.4.1)\n",
            "Requirement already satisfied: idna<4,>=2.5 in /usr/local/lib/python3.11/dist-packages (from requests->lightfm) (3.10)\n",
            "Requirement already satisfied: urllib3<3,>=1.21.1 in /usr/local/lib/python3.11/dist-packages (from requests->lightfm) (2.3.0)\n",
            "Requirement already satisfied: certifi>=2017.4.17 in /usr/local/lib/python3.11/dist-packages (from requests->lightfm) (2025.1.31)\n",
            "Requirement already satisfied: joblib>=1.2.0 in /usr/local/lib/python3.11/dist-packages (from scikit-learn->lightfm) (1.4.2)\n",
            "Requirement already satisfied: threadpoolctl>=3.1.0 in /usr/local/lib/python3.11/dist-packages (from scikit-learn->lightfm) (3.6.0)\n",
            "Building wheels for collected packages: lightfm\n",
            "  Building wheel for lightfm (setup.py) ... \u001b[?25l\u001b[?25hdone\n",
            "  Created wheel for lightfm: filename=lightfm-1.17-cp311-cp311-linux_x86_64.whl size=831162 sha256=aaa8f54cd629b27c8d39b222c57492459dd32dcac536c30e6fd30a05862d8137\n",
            "  Stored in directory: /root/.cache/pip/wheels/b9/0d/8a/0729d2e6e3ca2a898ba55201f905da7db3f838a33df5b3fcdd\n",
            "Successfully built lightfm\n",
            "Installing collected packages: lightfm\n",
            "Successfully installed lightfm-1.17\n"
          ]
        }
      ]
    },
    {
      "cell_type": "markdown",
      "source": [
        "#####2.\tВыполнить импорт необходимых библиотек"
      ],
      "metadata": {
        "id": "HMY-nWfMwduY"
      }
    },
    {
      "cell_type": "code",
      "source": [
        "from lightfm import LightFM\n",
        "\n",
        "from lightfm.datasets import fetch_movielens # Для использования встроенного в LightFM набора данных Movielens\n",
        "\n",
        "from lightfm.evaluation import precision_at_k, auc_score\n"
      ],
      "metadata": {
        "id": "Uuv5AZPuv9xE"
      },
      "execution_count": null,
      "outputs": []
    },
    {
      "cell_type": "markdown",
      "source": [
        "#####3. Подготовка данных\n",
        "\n",
        "Функция fetch_movielens загружает набор данных Movielens и возвращает словарь, содержащий матрицу оценок, пользовательские функции, характеристики элементов и другую информацию. В построении данной рек. системы нас интересует только матрица оценок.\n"
      ],
      "metadata": {
        "id": "NEDmMwBVwZPz"
      }
    },
    {
      "cell_type": "code",
      "source": [
        "data = fetch_movielens(min_rating=5.0);data"
      ],
      "metadata": {
        "colab": {
          "base_uri": "https://localhost:8080/"
        },
        "id": "KpyZAfhrwFUE",
        "outputId": "4e72770b-4517-429e-cc75-ccc16e98a7e2"
      },
      "execution_count": null,
      "outputs": [
        {
          "output_type": "execute_result",
          "data": {
            "text/plain": [
              "{'train': <COOrdinate sparse matrix of dtype 'int32'\n",
              " \twith 19048 stored elements and shape (943, 1682)>,\n",
              " 'test': <COOrdinate sparse matrix of dtype 'int32'\n",
              " \twith 2153 stored elements and shape (943, 1682)>,\n",
              " 'item_features': <Compressed Sparse Row sparse matrix of dtype 'float32'\n",
              " \twith 1682 stored elements and shape (1682, 1682)>,\n",
              " 'item_feature_labels': array(['T', 'G', 'F', ..., 'S', 'Y', 'S'], dtype='<U1'),\n",
              " 'item_labels': array(['T', 'G', 'F', ..., 'S', 'Y', 'S'], dtype='<U1')}"
            ]
          },
          "metadata": {},
          "execution_count": 3
        }
      ]
    },
    {
      "cell_type": "markdown",
      "source": [
        "#####4. Реализация гибридной рекомендательной системы\n",
        "\n",
        "Для реализации рекомендательной системы с lightFM предпочтительным алгоритмом является WARP (Weighted Approximate-Rank Pairwise).\n"
      ],
      "metadata": {
        "id": "zBRkX3A0wqTx"
      }
    },
    {
      "cell_type": "code",
      "source": [
        "model = LightFM(loss='warp')\n",
        "\n",
        "model.fit(data['train'], epochs=30, num_threads=2)\n"
      ],
      "metadata": {
        "colab": {
          "base_uri": "https://localhost:8080/"
        },
        "id": "23dEOU0twoFH",
        "outputId": "11df1f9f-09c8-49db-de35-d8006463d2da"
      },
      "execution_count": null,
      "outputs": [
        {
          "output_type": "execute_result",
          "data": {
            "text/plain": [
              "<lightfm.lightfm.LightFM at 0x7d4abd81e350>"
            ]
          },
          "metadata": {},
          "execution_count": 4
        }
      ]
    },
    {
      "cell_type": "markdown",
      "source": [
        "#####5. Генерация рекомендаций\n",
        "\n",
        "Используем созданную модель для генерации рекомендаций для пользователей, вызвав метод recommend. Метод recommend принимает два аргумента: user_ids и item_ids . Мы можем генерировать рекомендации для одного пользователя или нескольких пользователей одновременно. Мы также можем указать количество рекомендаций для генерации. Следующий код генерирует 10 рекомендаций для пользователя 3.\n"
      ],
      "metadata": {
        "id": "zTneZRwXwu2X"
      }
    },
    {
      "cell_type": "code",
      "source": [
        "import numpy as np\n",
        "\n",
        "user_id = 3\n",
        "\n",
        "n_items = data['train'].shape[1]\n",
        "\n",
        "recommendations = model.predict(user_id, np.arange(n_items))\n",
        "\n",
        "top_items = np.argsort(-recommendations)[:10]\n",
        "top_items"
      ],
      "metadata": {
        "colab": {
          "base_uri": "https://localhost:8080/"
        },
        "id": "ov1wDg3PwvqW",
        "outputId": "7509649e-aa07-4163-e90c-e8de01ea5b17"
      },
      "execution_count": null,
      "outputs": [
        {
          "output_type": "execute_result",
          "data": {
            "text/plain": [
              "array([747, 312, 331, 287, 326, 244, 299, 314, 327, 257])"
            ]
          },
          "metadata": {},
          "execution_count": 6
        }
      ]
    },
    {
      "cell_type": "markdown",
      "source": [
        "#####6. Оценка рекомендательной системы\n",
        "\n",
        "Оцените производительность модели, используя метрики precision at k и AUC. Метрика precision at k измеряет процент рекомендаций, которые были релевантны пользователю, из числа k лучших рекомендаций. Метрика AUC измеряет площадь под кривой рабочей характеристики приемника (ROC), которая показывает частоту истинных положительных срабатываний по сравнению с частотой ложных положительных срабатываний.\n",
        "Мы можем использовать библиотеку LightFM для вычисления этих показателей. Точность из k рекомендаций может быть рассчитана с помощью метода precision_at_k, а AUC может быть рассчитан с помощью метода auc_score.\n",
        "В этом примере мы обучаем модель на основе матрицы взаимодействий и оцениваем точность по метрикам k и AUC как для обучающего, так и для тестового наборов данных. Мы используем значение 10 для k, что означает, что мы рассматриваем только 10 лучших рекомендаций для каждого пользователя.\n",
        "Можно также попробовать вариант модели для k = 5.\n",
        "\n"
      ],
      "metadata": {
        "id": "E767wdlpxBMo"
      }
    },
    {
      "cell_type": "code",
      "source": [
        "train_precision = np.mean(precision_at_k(model, data['train'], k=10, num_threads=2))\n",
        "\n",
        "train_auc = np.mean(auc_score(model, data['train'], num_threads=2))\n",
        "\n",
        "# Оцениваем модель на тестовых данных.\n",
        "test_precision = np.mean(precision_at_k(model, data['test'], k=10, num_threads=2))\n",
        "\n",
        "test_auc = np.mean(auc_score(model, data['test'], num_threads=2))\n",
        "\n",
        "print('Train precision: {:.2f}'.format(train_precision))\n",
        "print('Train AUC: {:.2f}'.format(train_auc))\n",
        "print('Test precision: {:.2f}'.format(test_precision))\n",
        "print('Test AUC: {:.2f}'.format(test_auc))\n"
      ],
      "metadata": {
        "colab": {
          "base_uri": "https://localhost:8080/"
        },
        "id": "iUFmPH4YxDBW",
        "outputId": "bb673fba-6862-467f-ccbb-70b48ed8a5b5"
      },
      "execution_count": null,
      "outputs": [
        {
          "output_type": "stream",
          "name": "stdout",
          "text": [
            "Train precision: 0.35\n",
            "Train AUC: 0.97\n",
            "Test precision: 0.04\n",
            "Test AUC: 0.92\n"
          ]
        }
      ]
    },
    {
      "cell_type": "markdown",
      "source": [
        "#####7. Анализ результатов\n",
        "Проанализируйте результат рекомендаций, сделайте выводы.\n"
      ],
      "metadata": {
        "id": "kO1iYPsFxOrY"
      }
    },
    {
      "cell_type": "markdown",
      "source": [
        "точность на обучающей выборке (precision@10) составила 0.35, а AUC — 0.97; на тестовой выборке точность оказалась значительно ниже — 0.04 при AUC 0.92.\n",
        "\n",
        "Высокое значение метрики AUC на обеих выборках свидетельствует о том, что модель хорошо справляется с задачей ранжирования: она способна различать интересные и неинтересные объекты, определяя порядок, в котором элементы будут показаны пользователю. Это важно для систем, где ключевое значение имеет порядок рекомендаций (например, в лентах новостей, товарных подборках или сервисах потокового видео)\n",
        "\n",
        "Крайне низкое значение точности на тестовой выборке указывает на то, что из десяти рекомендуемых элементов в среднем только один оказывается действительно релевантным для пользователя. Это делает модель малополезной в практических условиях, особенно там, где важно избежать перенасыщения нерелевантными рекомендациями — например, в email рассылках или push уведомлениях\n",
        "\n",
        "Причинами такого разрыва между метриками AUC и precision могут быть переобучение модели, чрезмерно жёсткий фильтр по рейтингу, разреженность данных или недостаток информации о пользователях и объектах.\n",
        "\n",
        "Для повышения качества рекомендаций можно использовать дополнительные пользовательские и контентные признаки, а также рассмотреть другие функции потерь, такие как BPR или логистическая, которые могут лучше работать в конкретных условиях"
      ],
      "metadata": {
        "id": "nVVOGsX8yD8L"
      }
    },
    {
      "cell_type": "markdown",
      "source": [
        "###2 часть – реализация примера с Kaggle (2 балла)\n",
        "\n",
        "Рассмотрите решение для конкурса рекомендательных систем Career Village\n",
        "Конкурс проводился на платформе Kaggle https://www.kaggle.com/code/niyamatalmass/lightfm-hybrid-recommendation-system/notebook , также одно из решений рассмотрено в видео https://rutube.ru/video/9228bcac2604cc498989465cbf0edeb5/?r=wd&t=2679 ).\n",
        "Цель: создать гибридную рекомендательную систему для рекомендации вопросов студентов профессионалам для CareerVillage.org.\n",
        "Рекомендательная система работает путем подбора вопросов для профессионалов по тегам, которые соответствуют их специальности, тегам вопросов их предыдущих ответов и похожим тегам. Кроме того, система решает некоторые из наиболее часто встречающихся проблем рекомендательных систем, а именно cold-start и другие.\n",
        "Career Village предоставляет набор данных о профессионалах, вопросах, на которые ответили профессионалы, студентах, студенческих вопросах.\n",
        "Комментарии к примеру рассмотрены на лекции, см. слайды темы 5.\n"
      ],
      "metadata": {
        "id": "Zgb6KE6uxiq3"
      }
    },
    {
      "cell_type": "markdown",
      "source": [
        "\n",
        "1. **Загрузка и очистка данных**  \n",
        "   - Загрузил таблицы: профессионалы, студенты, вопросы, ответы, теги.\n",
        "   - Удалил NaN, объединил связанные данные (например, теги с вопросами и профилями).\n",
        "\n",
        "2. **Преобразование признаков**  \n",
        "   - Преобразовал текстовые ID (UUID) в числовые (требуется для LightFM).\n",
        "   - Объединил теги профессионала и теги вопросов, на которые он уже отвечал.\n",
        "\n",
        "3. **Генерация признаков (features)**  \n",
        "   - Для вопросов: теги.\n",
        "   - Для профессионалов: интересы + теги вопросов, на которые они отвечали.\n",
        "\n",
        "4. **Построение взаимодействий**  \n",
        "   - Каждое взаимодействие = профессионал ответил на вопрос.\n",
        "   - Присвоены веса (чем меньше ответов на вопрос, тем выше вес).\n",
        "\n",
        "5. **Обучение модели LightFM**  \n",
        "   - Использовал модель с параметрами: loss='warp', no_components=150, epochs=5.\n",
        "   - Учитывал user_features и item_features.\n",
        "\n",
        "6. **Генерация рекомендаций**  \n",
        "   - Для каждого профессионала модель предлагает вопросы, которые он ещё не видел, но которые похожи на его интересы и опыт.\n",
        "\n",
        "7. **Создание классов**  \n",
        "   - Всё обернуто в классы для переиспользования:\n",
        "     - подготовка данных,\n",
        "     - генерация признаков,\n",
        "     - обучение модели,\n",
        "     - выдача рекомендаций (в том числе по диапазону дат).\n"
      ],
      "metadata": {
        "id": "hmwDG2ZI-9Jl"
      }
    },
    {
      "cell_type": "code",
      "source": [
        "################################################\n",
        "# Importing necessary library\n",
        "################################################\n",
        "import numpy as np\n",
        "import pandas as pd\n",
        "import os\n",
        "\n",
        "# all lightfm imports\n",
        "from lightfm.data import Dataset\n",
        "from lightfm import LightFM\n",
        "from lightfm import cross_validation\n",
        "from lightfm.evaluation import precision_at_k\n",
        "from lightfm.evaluation import auc_score\n",
        "\n",
        "# imports re for text cleaning\n",
        "import re\n",
        "from datetime import datetime, timedelta\n",
        "\n",
        "# we will ignore pandas warning\n",
        "import warnings\n",
        "warnings.filterwarnings('ignore')\n",
        "import zipfile"
      ],
      "metadata": {
        "id": "ml8G8JaFxjSY"
      },
      "execution_count": 14,
      "outputs": []
    },
    {
      "cell_type": "code",
      "source": [
        "zip_path = '/content/drive/MyDrive/реки/lab_5/input.zip'\n",
        "output_dir = '/content/drive/MyDrive/реки/lab_5'\n",
        "\n",
        "os.makedirs(output_dir, exist_ok=True)\n",
        "\n",
        "with zipfile.ZipFile(zip_path, 'r') as archive:\n",
        "    archive.extractall(output_dir)\n",
        "\n",
        "print(os.listdir(output_dir))"
      ],
      "metadata": {
        "colab": {
          "base_uri": "https://localhost:8080/"
        },
        "id": "t8kHGw8Az1gO",
        "outputId": "953fc0e3-4074-438d-cae3-47ad0eb368e5"
      },
      "execution_count": 17,
      "outputs": [
        {
          "output_type": "stream",
          "name": "stdout",
          "text": [
            "['input.zip', 'input']\n"
          ]
        }
      ]
    },
    {
      "cell_type": "code",
      "source": [
        "nested_zip_dir = '/content/drive/MyDrive/реки/lab_5/input'\n",
        "\n",
        "for file in os.listdir(nested_zip_dir):\n",
        "    if file.endswith('.csv.zip'):\n",
        "        with zipfile.ZipFile(os.path.join(nested_zip_dir, file), 'r') as zip_ref:\n",
        "            zip_ref.extractall(nested_zip_dir)\n",
        "\n",
        "print([f for f in os.listdir(nested_zip_dir) if f.endswith('.csv')])"
      ],
      "metadata": {
        "colab": {
          "base_uri": "https://localhost:8080/"
        },
        "id": "O3YAe8FH1xmL",
        "outputId": "91bc031b-fe89-4f84-ea43-2ee26663e54f"
      },
      "execution_count": 19,
      "outputs": [
        {
          "output_type": "stream",
          "name": "stdout",
          "text": [
            "['groups.csv', 'group_memberships.csv', 'question_scores.csv', 'school_memberships.csv', 'tags.csv', 'answers.csv', 'answer_scores.csv', 'comments.csv', 'emails.csv', 'matches.csv', 'professionals.csv', 'questions.csv', 'students.csv', 'tag_questions.csv', 'tag_users.csv']\n"
          ]
        }
      ]
    },
    {
      "cell_type": "code",
      "source": [
        "base_path = '/content/drive/MyDrive/реки/lab_5/input/'\n",
        "\n",
        "df_professionals = pd.read_csv(base_path + 'professionals.csv', parse_dates=['professionals_date_joined'])\n",
        "df_students = pd.read_csv(base_path + 'students.csv', parse_dates=['students_date_joined'])\n",
        "df_questions = pd.read_csv(base_path + 'questions.csv', parse_dates=['questions_date_added'])\n",
        "df_answers = pd.read_csv(base_path + 'answers.csv', parse_dates=['answers_date_added'])"
      ],
      "metadata": {
        "id": "_8LmemLv6PQp"
      },
      "execution_count": 25,
      "outputs": []
    },
    {
      "cell_type": "code",
      "source": [
        "'''def generate_int_id(dataframe, id_col_name):\n",
        "    \"\"\"\n",
        "    Generate unique integer id for users, questions and answers\n",
        "\n",
        "    Parameters\n",
        "    ----------\n",
        "    dataframe: Dataframe\n",
        "        Pandas Dataframe for Users or Q&A.\n",
        "    id_col_name : String\n",
        "        New integer id's column name.\n",
        "\n",
        "    Returns\n",
        "    -------\n",
        "    Dataframe\n",
        "        Updated dataframe containing new id column\n",
        "    \"\"\"\n",
        "    new_dataframe=dataframe.assign(\n",
        "        int_id_col_name=np.arange(len(dataframe))\n",
        "        ).reset_index(drop=True)\n",
        "    return new_dataframe.rename(columns={'int_id_col_name': id_col_name})'''\n",
        "\n",
        "def generate_int_id(dataframe, id_col_name):\n",
        "    \"\"\"\n",
        "    Generate unique integer id for users, questions and answers\n",
        "    \"\"\"\n",
        "    dataframe = dataframe.copy()\n",
        "    dataframe[id_col_name] = np.arange(len(dataframe))\n",
        "    return dataframe.reset_index(drop=True)\n",
        "\n",
        "\n",
        "def create_features(dataframe, features_name, id_col_name):\n",
        "    \"\"\"\n",
        "    Generate features that will be ready for feeding into lightfm\n",
        "\n",
        "    Parameters\n",
        "    ----------\n",
        "    dataframe: Dataframe\n",
        "        Pandas Dataframe which contains features\n",
        "    features_name : List\n",
        "        List of feature columns name avaiable in dataframe\n",
        "    id_col_name: String\n",
        "        Column name which contains id of the question or\n",
        "        answer that the features will map to.\n",
        "        There are two possible values for this variable.\n",
        "        1. questions_id_num\n",
        "        2. professionals_id_num\n",
        "\n",
        "    Returns\n",
        "    -------\n",
        "    Pandas Series\n",
        "        A pandas series containing process features\n",
        "        that are ready for feed into lightfm.\n",
        "        The format of each value\n",
        "        will be (user_id, ['feature_1', 'feature_2', 'feature_3'])\n",
        "        Ex. -> (1, ['military', 'army', '5'])\n",
        "    \"\"\"\n",
        "\n",
        "    features = dataframe[features_name].apply(\n",
        "        lambda x: ','.join(x.map(str)), axis=1)\n",
        "    features = features.str.split(',')\n",
        "    features = list(zip(dataframe[id_col_name], features))\n",
        "    return features\n",
        "\n",
        "\n",
        "\n",
        "def generate_feature_list(dataframe, features_name):\n",
        "    \"\"\"\n",
        "    Generate features list for mapping\n",
        "\n",
        "    Parameters\n",
        "    ----------\n",
        "    dataframe: Dataframe\n",
        "        Pandas Dataframe for Users or Q&A.\n",
        "    features_name : List\n",
        "        List of feature columns name avaiable in dataframe.\n",
        "\n",
        "    Returns\n",
        "    -------\n",
        "    List of all features for mapping\n",
        "    \"\"\"\n",
        "    features = dataframe[features_name].apply(\n",
        "        lambda x: ','.join(x.map(str)), axis=1)\n",
        "    features = features.str.split(',')\n",
        "    features = features.apply(pd.Series).stack().reset_index(drop=True)\n",
        "    return features\n",
        "\n",
        "\n",
        "def calculate_auc_score(lightfm_model, interactions_matrix,\n",
        "                        question_features, professional_features):\n",
        "    \"\"\"\n",
        "    Measure the ROC AUC metric for a model.\n",
        "    A perfect score is 1.0.\n",
        "\n",
        "    Parameters\n",
        "    ----------\n",
        "    lightfm_model: LightFM model\n",
        "        A fitted lightfm model\n",
        "    interactions_matrix :\n",
        "        A lightfm interactions matrix\n",
        "    question_features, professional_features:\n",
        "        Lightfm features\n",
        "\n",
        "    Returns\n",
        "    -------\n",
        "    String containing AUC score\n",
        "    \"\"\"\n",
        "    score = auc_score(\n",
        "        lightfm_model, interactions_matrix,\n",
        "        item_features=question_features,\n",
        "        user_features=professional_features,\n",
        "        num_threads=4).mean()\n",
        "    return score"
      ],
      "metadata": {
        "id": "Gl4BBqR23eNa"
      },
      "execution_count": 23,
      "outputs": []
    },
    {
      "cell_type": "code",
      "source": [
        "df_professionals = generate_int_id(df_professionals, 'professionals_id_num')\n",
        "df_students = generate_int_id(df_students, 'students_id_num')\n",
        "df_questions = generate_int_id(df_questions, 'questions_id_num')\n",
        "df_answers = generate_int_id(df_answers, 'answers_id_num')"
      ],
      "metadata": {
        "id": "ZZvjIjTt5r6M"
      },
      "execution_count": 26,
      "outputs": []
    },
    {
      "cell_type": "code",
      "source": [
        "df_tags = pd.read_csv(base_path + 'tags.csv')\n",
        "df_tag_questions = pd.read_csv(base_path + 'tag_questions.csv')\n",
        "df_tag_users = pd.read_csv(base_path + 'tag_users.csv')\n",
        "df_question_scores = pd.read_csv(base_path + 'question_scores.csv')\n",
        "df_students = pd.read_csv(base_path + 'students.csv', parse_dates=['students_date_joined'])\n",
        "\n",
        "\n",
        "# - пропущенные теги и - #\n",
        "df_tags = df_tags.dropna()\n",
        "df_tags['tags_tag_name'] = df_tags['tags_tag_name'].str.replace('#', '', regex=False)\n",
        "\n",
        "# Связка тегов с вопросами\n",
        "df_tags_question = df_tag_questions.merge(\n",
        "    df_tags, how='inner',\n",
        "    left_on='tag_questions_tag_id', right_on='tags_tag_id')\n",
        "\n",
        "df_tags_question = df_tags_question.groupby(\n",
        "    ['tag_questions_question_id'])['tags_tag_name'].apply(','.join).reset_index()\n",
        "\n",
        "df_tags_question = df_tags_question.rename(columns={'tags_tag_name': 'questions_tag_name'})\n",
        "\n",
        "# Связка тегов с профессионалами\n",
        "df_tags_pro = df_tag_users.merge(\n",
        "    df_tags, how='inner',\n",
        "    left_on='tag_users_tag_id', right_on='tags_tag_id')\n",
        "\n",
        "df_tags_pro = df_tags_pro.groupby(\n",
        "    ['tag_users_user_id'])['tags_tag_name'].apply(','.join).reset_index()\n",
        "\n",
        "df_tags_pro = df_tags_pro.rename(columns={'tags_tag_name': 'professionals_tag_name'})\n",
        "\n",
        "# + теги к вопросам\n",
        "df_questions = df_questions.merge(\n",
        "    df_tags_question, how='left',\n",
        "    left_on='questions_id', right_on='tag_questions_question_id')\n",
        "\n",
        "# + теги к профессионалам\n",
        "df_professionals = df_professionals.merge(\n",
        "    df_tags_pro, how='left',\n",
        "    left_on='professionals_id', right_on='tag_users_user_id')\n",
        "\n",
        "# + оценки к вопросам\n",
        "df_questions = df_questions.merge(\n",
        "    df_question_scores, how='left',\n",
        "    left_on='questions_id', right_on='id')\n",
        "\n",
        "# + студентов к вопросам (авторы)\n",
        "df_questions = df_questions.merge(\n",
        "    df_students, how='left',\n",
        "    left_on='questions_author_id', right_on='students_id')\n",
        "\n",
        "# Финальный мёрдж: ответы + вопросы + профессионалы\n",
        "df_merge = df_answers.merge(\n",
        "    df_questions, how='inner',\n",
        "    left_on='answers_question_id', right_on='questions_id')\n",
        "\n",
        "df_merge = df_merge.merge(\n",
        "    df_professionals, how='inner',\n",
        "    left_on='answers_author_id', right_on='professionals_id')\n",
        "\n",
        "df_merge = df_merge.merge(\n",
        "    df_question_scores, how='inner',\n",
        "    left_on='questions_id', right_on='id')"
      ],
      "metadata": {
        "id": "fHU4h4jC63C_"
      },
      "execution_count": 28,
      "outputs": []
    },
    {
      "cell_type": "code",
      "source": [
        "#######################\n",
        "# Generate some features for calculates weights\n",
        "# that will use with interaction matrix\n",
        "#######################\n",
        "\n",
        "df_merge['num_of_ans_by_professional'] = df_merge.groupby(['answers_author_id'])['questions_id'].transform('count')\n",
        "df_merge['num_ans_per_ques'] = df_merge.groupby(['questions_id'])['answers_id'].transform('count')\n",
        "df_merge['num_tags_professional'] = df_merge['professionals_tag_name'].str.split(\",\").str.len()\n",
        "df_merge['num_tags_question'] = df_merge['questions_tag_name'].str.split(\",\").str.len()"
      ],
      "metadata": {
        "id": "ShCM79O87RtG"
      },
      "execution_count": 29,
      "outputs": []
    },
    {
      "cell_type": "code",
      "source": [
        "print(\"Maximum number of answer per question : \" + str(df_merge['num_ans_per_ques'].max()))\n",
        "print(\"Maximum number of tags per professional : \" + str(df_merge['num_tags_professional'].max()))\n",
        "print(\"Maximum number of tags per question : \" + str(df_merge['num_tags_question'].max()))"
      ],
      "metadata": {
        "colab": {
          "base_uri": "https://localhost:8080/"
        },
        "id": "AvoB6dca7UXq",
        "outputId": "fc813e63-bf7d-4506-b362-2ad0038fb27a"
      },
      "execution_count": 30,
      "outputs": [
        {
          "output_type": "stream",
          "name": "stdout",
          "text": [
            "Maximum number of answer per question : 58\n",
            "Maximum number of tags per professional : 82.0\n",
            "Maximum number of tags per question : 54.0\n"
          ]
        }
      ]
    },
    {
      "cell_type": "code",
      "source": [
        "########################\n",
        "# Merge professionals previous answered\n",
        "# questions tags into professionals tags\n",
        "########################\n",
        "\n",
        "# select professionals answered questions tags\n",
        "# and stored as a dataframe\n",
        "professionals_prev_ans_tags = df_merge[['professionals_id', 'questions_tag_name']]\n",
        "# drop null values from that\n",
        "professionals_prev_ans_tags = professionals_prev_ans_tags.dropna()\n",
        "# because professsionals answers multiple questions,\n",
        "# we group all of tags of each user into single row\n",
        "professionals_prev_ans_tags = professionals_prev_ans_tags.groupby(\n",
        "    ['professionals_id'])['questions_tag_name'].apply(\n",
        "        ','.join).reset_index()\n",
        "\n",
        "# drop duplicates tags from each professionals rows\n",
        "professionals_prev_ans_tags['questions_tag_name'] = (\n",
        "    professionals_prev_ans_tags['questions_tag_name'].str.split(',').apply(set).str.join(','))\n",
        "\n",
        "# finally merge the dataframe with professionals dataframe\n",
        "df_professionals = df_professionals.merge(professionals_prev_ans_tags, how='left', on='professionals_id')\n",
        "\n",
        "# join professionals tags and their answered tags\n",
        "# we replace nan values with \"\"\n",
        "df_professionals['professional_all_tags'] = (\n",
        "    df_professionals[['professionals_tag_name', 'questions_tag_name']].apply(\n",
        "        lambda x: ','.join(x.dropna()),\n",
        "        axis=1))"
      ],
      "metadata": {
        "id": "b5Et3KQj7mXs"
      },
      "execution_count": 31,
      "outputs": []
    },
    {
      "cell_type": "code",
      "source": [
        "# handling null values\n",
        "df_questions['score'] = df_questions['score'].fillna(0)\n",
        "df_questions['score'] = df_questions['score'].astype(int)\n",
        "df_questions['questions_tag_name'] = df_questions['questions_tag_name'].fillna('No Tag')\n",
        "# remove duplicates tags from each questions\n",
        "df_questions['questions_tag_name'] = df_questions['questions_tag_name'].str.split(',').apply(set).str.join(',')\n",
        "\n",
        "\n",
        "# fill nan with 'No Tag' if any\n",
        "df_professionals['professional_all_tags'] = df_professionals['professional_all_tags'].fillna('No Tag')\n",
        "# replace \"\" with \"No Tag\", because previously we replace nan with \"\"\n",
        "df_professionals['professional_all_tags'] = df_professionals['professional_all_tags'].replace('', 'No Tag')\n",
        "df_professionals['professionals_location'] = df_professionals['professionals_location'].fillna('No Location')\n",
        "df_professionals['professionals_industry'] = df_professionals['professionals_industry'].fillna('No Industry')\n",
        "\n",
        "# remove duplicates tags from each professionals\n",
        "df_professionals['professional_all_tags'] = df_professionals['professional_all_tags'].str.split(',').apply(set).str.join(',')\n",
        "\n",
        "\n",
        "\n",
        "# remove some null values from df_merge\n",
        "df_merge['num_ans_per_ques']  = df_merge['num_ans_per_ques'].fillna(0)\n",
        "df_merge['num_tags_professional'] = df_merge['num_tags_professional'].fillna(0)\n",
        "df_merge['num_tags_question'] = df_merge['num_tags_question'].fillna(0)"
      ],
      "metadata": {
        "id": "JQyJqQhU7vUN"
      },
      "execution_count": 32,
      "outputs": []
    },
    {
      "cell_type": "markdown",
      "source": [
        "Building model in LightFM"
      ],
      "metadata": {
        "id": "hARDz8v073Ua"
      }
    },
    {
      "cell_type": "code",
      "source": [
        "# generating features list for mapping\n",
        "question_feature_list = generate_feature_list(\n",
        "    df_questions,\n",
        "    ['questions_tag_name'])\n",
        "\n",
        "professional_feature_list = generate_feature_list(\n",
        "    df_professionals,\n",
        "    ['professional_all_tags'])"
      ],
      "metadata": {
        "id": "G2AVu5s37zTx"
      },
      "execution_count": 33,
      "outputs": []
    },
    {
      "cell_type": "code",
      "source": [
        "# calculate our weight value\n",
        "df_merge['total_weights'] = 1 / (\n",
        "    df_merge['num_ans_per_ques'])\n",
        "\n",
        "\n",
        "# creating features for feeding into lightfm\n",
        "df_questions['question_features'] = create_features(\n",
        "    df_questions, ['questions_tag_name'],\n",
        "    'questions_id_num')\n",
        "\n",
        "df_professionals['professional_features'] = create_features(\n",
        "    df_professionals,\n",
        "    ['professional_all_tags'],\n",
        "    'professionals_id_num')"
      ],
      "metadata": {
        "id": "fXraIh6-7_y9"
      },
      "execution_count": 34,
      "outputs": []
    },
    {
      "cell_type": "code",
      "source": [
        "########################\n",
        "# Dataset building for lightfm\n",
        "########################\n",
        "\n",
        "# define our dataset variable\n",
        "# then we feed unique professionals and questions ids\n",
        "# and item and professional feature list\n",
        "# this will create lightfm internel mapping\n",
        "dataset = Dataset()\n",
        "dataset.fit(\n",
        "    set(df_professionals['professionals_id_num']),\n",
        "    set(df_questions['questions_id_num']),\n",
        "    item_features=question_feature_list,\n",
        "    user_features=professional_feature_list)\n",
        "\n",
        "\n",
        "# now we are building interactions matrix between professionals and quesitons\n",
        "# we are passing professional and questions id as a tuple\n",
        "# e.g -> pd.Series((pro_id, question_id), (pro_id, questin_id))\n",
        "# then we use lightfm build in method for building interactions matrix\n",
        "df_merge['author_question_id_tuple'] = list(zip(\n",
        "    df_merge.professionals_id_num, df_merge.questions_id_num, df_merge.total_weights))\n",
        "\n",
        "interactions, weights = dataset.build_interactions(\n",
        "    df_merge['author_question_id_tuple'])\n",
        "\n",
        "\n",
        "\n",
        "# now we are building our questions and professionals features\n",
        "# in a way that lightfm understand.\n",
        "# we are using lightfm build in method for building\n",
        "# questions and professionals features\n",
        "questions_features = dataset.build_item_features(\n",
        "    df_questions['question_features'])\n",
        "\n",
        "professional_features = dataset.build_user_features(\n",
        "    df_professionals['professional_features'])"
      ],
      "metadata": {
        "id": "tfs231Lq8Agg"
      },
      "execution_count": 35,
      "outputs": []
    },
    {
      "cell_type": "code",
      "source": [
        "################################\n",
        "# Model building part\n",
        "################################\n",
        "\n",
        "# define lightfm model by specifying hyper-parametre\n",
        "# then fit the model with ineteractions matrix, item and user features\n",
        "model = LightFM(\n",
        "    no_components=150,\n",
        "    learning_rate=0.05,\n",
        "    loss='warp',\n",
        "    random_state=2019)\n",
        "\n",
        "model.fit(\n",
        "    interactions,\n",
        "    item_features=questions_features,\n",
        "    user_features=professional_features, sample_weight=weights,\n",
        "    epochs=5, num_threads=4, verbose=True)"
      ],
      "metadata": {
        "colab": {
          "base_uri": "https://localhost:8080/"
        },
        "id": "S3AIgZwb8HQd",
        "outputId": "373c80c4-db3d-46be-eae7-cc88aeb10bbf"
      },
      "execution_count": 36,
      "outputs": [
        {
          "output_type": "stream",
          "name": "stderr",
          "text": [
            "Epoch: 100%|██████████| 5/5 [01:37<00:00, 19.53s/it]\n"
          ]
        },
        {
          "output_type": "execute_result",
          "data": {
            "text/plain": [
              "<lightfm.lightfm.LightFM at 0x7d4a90d5d5d0>"
            ]
          },
          "metadata": {},
          "execution_count": 36
        }
      ]
    },
    {
      "cell_type": "code",
      "source": [
        "calculate_auc_score(model, interactions, questions_features, professional_features)"
      ],
      "metadata": {
        "colab": {
          "base_uri": "https://localhost:8080/"
        },
        "id": "hcnLZaEK8Piu",
        "outputId": "6c44ce4a-2497-44fe-a129-d58b6ebd5163"
      },
      "execution_count": 37,
      "outputs": [
        {
          "output_type": "execute_result",
          "data": {
            "text/plain": [
              "np.float32(0.91398245)"
            ]
          },
          "metadata": {},
          "execution_count": 37
        }
      ]
    },
    {
      "cell_type": "code",
      "source": [
        "from IPython.display import display_html\n",
        "def display_side_by_side(*args):\n",
        "    html_str=''\n",
        "    for df in args:\n",
        "        html_str+=df.to_html()\n",
        "    display_html(html_str.replace('table','table style=\"display:inline\"'),raw=True)\n",
        "\n",
        "def recommend_questions(professional_ids):\n",
        "\n",
        "    for professional in professional_ids:\n",
        "        # print their previous answered question title\n",
        "        previous_q_id_num = df_merge.loc[df_merge['professionals_id_num'] == professional][:3]['questions_id_num']\n",
        "        df_previous_questions = df_questions.loc[df_questions['questions_id_num'].isin(previous_q_id_num)]\n",
        "        print('Professional Id (' + str(professional) + \"): Previous Answered Questions\")\n",
        "        display_side_by_side(\n",
        "            df_previous_questions[['questions_title', 'question_features']],\n",
        "            df_professionals.loc[df_professionals.professionals_id_num == professional][['professionals_id_num','professionals_tag_name']])\n",
        "\n",
        "        # predict\n",
        "        discard_qu_id = df_previous_questions['questions_id_num'].values.tolist()\n",
        "        df_use_for_prediction = df_questions.loc[~df_questions['questions_id_num'].isin(discard_qu_id)]\n",
        "        questions_id_for_predict = df_use_for_prediction['questions_id_num'].values.tolist()\n",
        "\n",
        "        scores = model.predict(\n",
        "            professional,\n",
        "            questions_id_for_predict,\n",
        "            item_features=questions_features,\n",
        "            user_features=professional_features)\n",
        "\n",
        "        df_use_for_prediction['scores'] = scores\n",
        "        df_use_for_prediction = df_use_for_prediction.sort_values(by='scores', ascending=False)[:8]\n",
        "        print('Professional Id (' + str(professional) + \"): Recommended Questions: \")\n",
        "        display(df_use_for_prediction[['questions_title', 'question_features']])"
      ],
      "metadata": {
        "id": "_pz_m_Lz8TE2"
      },
      "execution_count": 38,
      "outputs": []
    },
    {
      "cell_type": "code",
      "source": [
        "recommend_questions([1200 ,19897, 3])"
      ],
      "metadata": {
        "colab": {
          "base_uri": "https://localhost:8080/",
          "height": 1000
        },
        "id": "zpLPjqXN8WEV",
        "outputId": "d943c52a-237f-4468-af0f-11c58f134149"
      },
      "execution_count": 39,
      "outputs": [
        {
          "output_type": "stream",
          "name": "stdout",
          "text": [
            "Professional Id (1200): Previous Answered Questions\n"
          ]
        },
        {
          "output_type": "display_data",
          "data": {
            "text/html": [
              "<table style=\"display:inline\" border=\"1\" class=\"dataframe\">\n",
              "  <thead>\n",
              "    <tr style=\"text-align: right;\">\n",
              "      <th></th>\n",
              "      <th>questions_title</th>\n",
              "      <th>question_features</th>\n",
              "    </tr>\n",
              "  </thead>\n",
              "  <tbody>\n",
              "  </tbody>\n",
              "</table style=\"display:inline\"><table style=\"display:inline\" border=\"1\" class=\"dataframe\">\n",
              "  <thead>\n",
              "    <tr style=\"text-align: right;\">\n",
              "      <th></th>\n",
              "      <th>professionals_id_num</th>\n",
              "      <th>professionals_tag_name</th>\n",
              "    </tr>\n",
              "  </thead>\n",
              "  <tbody>\n",
              "    <tr>\n",
              "      <th>1200</th>\n",
              "      <td>1200</td>\n",
              "      <td>dj,entrepreneurship,marketing,advertising,football,analytics,data-analysis,java,python,real-estate,billiards,blackjack,break,display-advertising,hip-hop,online-advertising,strategy,management,team-leadership</td>\n",
              "    </tr>\n",
              "  </tbody>\n",
              "</table style=\"display:inline\">"
            ]
          },
          "metadata": {}
        },
        {
          "output_type": "stream",
          "name": "stdout",
          "text": [
            "Professional Id (1200): Recommended Questions: \n"
          ]
        },
        {
          "output_type": "display_data",
          "data": {
            "text/plain": [
              "                                         questions_title  \\\n",
              "19011  How do you get started in starting your own bu...   \n",
              "20217  What are the most common and uncommon battles ...   \n",
              "7750   Are there any good colleges  for learning  bus...   \n",
              "13698      Is it really hard managing a group of people?   \n",
              "9802                          Is marketing a good major?   \n",
              "8559   Which Business field of study is best suited t...   \n",
              "18829        What schools are best for entrepreneurship?   \n",
              "10073  How important is a business degree when trying...   \n",
              "\n",
              "                                       question_features  \n",
              "19011         (19011, [business, marketing, management])  \n",
              "20217              (20217, [business, entrepreneurship])  \n",
              "7750                       (7750, [business, marketing])  \n",
              "13698  (13698, [business, entrepreneurship, management])  \n",
              "9802                       (9802, [business, marketing])  \n",
              "8559   (8559, [accounting, business, entrepreneurship...  \n",
              "18829              (18829, [business, entrepreneurship])  \n",
              "10073              (10073, [business, entrepreneurship])  "
            ],
            "text/html": [
              "\n",
              "  <div id=\"df-cf6d62ff-de42-4854-a227-e38f1023f7ea\" class=\"colab-df-container\">\n",
              "    <div>\n",
              "<style scoped>\n",
              "    .dataframe tbody tr th:only-of-type {\n",
              "        vertical-align: middle;\n",
              "    }\n",
              "\n",
              "    .dataframe tbody tr th {\n",
              "        vertical-align: top;\n",
              "    }\n",
              "\n",
              "    .dataframe thead th {\n",
              "        text-align: right;\n",
              "    }\n",
              "</style>\n",
              "<table border=\"1\" class=\"dataframe\">\n",
              "  <thead>\n",
              "    <tr style=\"text-align: right;\">\n",
              "      <th></th>\n",
              "      <th>questions_title</th>\n",
              "      <th>question_features</th>\n",
              "    </tr>\n",
              "  </thead>\n",
              "  <tbody>\n",
              "    <tr>\n",
              "      <th>19011</th>\n",
              "      <td>How do you get started in starting your own bu...</td>\n",
              "      <td>(19011, [business, marketing, management])</td>\n",
              "    </tr>\n",
              "    <tr>\n",
              "      <th>20217</th>\n",
              "      <td>What are the most common and uncommon battles ...</td>\n",
              "      <td>(20217, [business, entrepreneurship])</td>\n",
              "    </tr>\n",
              "    <tr>\n",
              "      <th>7750</th>\n",
              "      <td>Are there any good colleges  for learning  bus...</td>\n",
              "      <td>(7750, [business, marketing])</td>\n",
              "    </tr>\n",
              "    <tr>\n",
              "      <th>13698</th>\n",
              "      <td>Is it really hard managing a group of people?</td>\n",
              "      <td>(13698, [business, entrepreneurship, management])</td>\n",
              "    </tr>\n",
              "    <tr>\n",
              "      <th>9802</th>\n",
              "      <td>Is marketing a good major?</td>\n",
              "      <td>(9802, [business, marketing])</td>\n",
              "    </tr>\n",
              "    <tr>\n",
              "      <th>8559</th>\n",
              "      <td>Which Business field of study is best suited t...</td>\n",
              "      <td>(8559, [accounting, business, entrepreneurship...</td>\n",
              "    </tr>\n",
              "    <tr>\n",
              "      <th>18829</th>\n",
              "      <td>What schools are best for entrepreneurship?</td>\n",
              "      <td>(18829, [business, entrepreneurship])</td>\n",
              "    </tr>\n",
              "    <tr>\n",
              "      <th>10073</th>\n",
              "      <td>How important is a business degree when trying...</td>\n",
              "      <td>(10073, [business, entrepreneurship])</td>\n",
              "    </tr>\n",
              "  </tbody>\n",
              "</table>\n",
              "</div>\n",
              "    <div class=\"colab-df-buttons\">\n",
              "\n",
              "  <div class=\"colab-df-container\">\n",
              "    <button class=\"colab-df-convert\" onclick=\"convertToInteractive('df-cf6d62ff-de42-4854-a227-e38f1023f7ea')\"\n",
              "            title=\"Convert this dataframe to an interactive table.\"\n",
              "            style=\"display:none;\">\n",
              "\n",
              "  <svg xmlns=\"http://www.w3.org/2000/svg\" height=\"24px\" viewBox=\"0 -960 960 960\">\n",
              "    <path d=\"M120-120v-720h720v720H120Zm60-500h600v-160H180v160Zm220 220h160v-160H400v160Zm0 220h160v-160H400v160ZM180-400h160v-160H180v160Zm440 0h160v-160H620v160ZM180-180h160v-160H180v160Zm440 0h160v-160H620v160Z\"/>\n",
              "  </svg>\n",
              "    </button>\n",
              "\n",
              "  <style>\n",
              "    .colab-df-container {\n",
              "      display:flex;\n",
              "      gap: 12px;\n",
              "    }\n",
              "\n",
              "    .colab-df-convert {\n",
              "      background-color: #E8F0FE;\n",
              "      border: none;\n",
              "      border-radius: 50%;\n",
              "      cursor: pointer;\n",
              "      display: none;\n",
              "      fill: #1967D2;\n",
              "      height: 32px;\n",
              "      padding: 0 0 0 0;\n",
              "      width: 32px;\n",
              "    }\n",
              "\n",
              "    .colab-df-convert:hover {\n",
              "      background-color: #E2EBFA;\n",
              "      box-shadow: 0px 1px 2px rgba(60, 64, 67, 0.3), 0px 1px 3px 1px rgba(60, 64, 67, 0.15);\n",
              "      fill: #174EA6;\n",
              "    }\n",
              "\n",
              "    .colab-df-buttons div {\n",
              "      margin-bottom: 4px;\n",
              "    }\n",
              "\n",
              "    [theme=dark] .colab-df-convert {\n",
              "      background-color: #3B4455;\n",
              "      fill: #D2E3FC;\n",
              "    }\n",
              "\n",
              "    [theme=dark] .colab-df-convert:hover {\n",
              "      background-color: #434B5C;\n",
              "      box-shadow: 0px 1px 3px 1px rgba(0, 0, 0, 0.15);\n",
              "      filter: drop-shadow(0px 1px 2px rgba(0, 0, 0, 0.3));\n",
              "      fill: #FFFFFF;\n",
              "    }\n",
              "  </style>\n",
              "\n",
              "    <script>\n",
              "      const buttonEl =\n",
              "        document.querySelector('#df-cf6d62ff-de42-4854-a227-e38f1023f7ea button.colab-df-convert');\n",
              "      buttonEl.style.display =\n",
              "        google.colab.kernel.accessAllowed ? 'block' : 'none';\n",
              "\n",
              "      async function convertToInteractive(key) {\n",
              "        const element = document.querySelector('#df-cf6d62ff-de42-4854-a227-e38f1023f7ea');\n",
              "        const dataTable =\n",
              "          await google.colab.kernel.invokeFunction('convertToInteractive',\n",
              "                                                    [key], {});\n",
              "        if (!dataTable) return;\n",
              "\n",
              "        const docLinkHtml = 'Like what you see? Visit the ' +\n",
              "          '<a target=\"_blank\" href=https://colab.research.google.com/notebooks/data_table.ipynb>data table notebook</a>'\n",
              "          + ' to learn more about interactive tables.';\n",
              "        element.innerHTML = '';\n",
              "        dataTable['output_type'] = 'display_data';\n",
              "        await google.colab.output.renderOutput(dataTable, element);\n",
              "        const docLink = document.createElement('div');\n",
              "        docLink.innerHTML = docLinkHtml;\n",
              "        element.appendChild(docLink);\n",
              "      }\n",
              "    </script>\n",
              "  </div>\n",
              "\n",
              "\n",
              "<div id=\"df-3f6f4076-2d9f-4a05-9034-756c253067d2\">\n",
              "  <button class=\"colab-df-quickchart\" onclick=\"quickchart('df-3f6f4076-2d9f-4a05-9034-756c253067d2')\"\n",
              "            title=\"Suggest charts\"\n",
              "            style=\"display:none;\">\n",
              "\n",
              "<svg xmlns=\"http://www.w3.org/2000/svg\" height=\"24px\"viewBox=\"0 0 24 24\"\n",
              "     width=\"24px\">\n",
              "    <g>\n",
              "        <path d=\"M19 3H5c-1.1 0-2 .9-2 2v14c0 1.1.9 2 2 2h14c1.1 0 2-.9 2-2V5c0-1.1-.9-2-2-2zM9 17H7v-7h2v7zm4 0h-2V7h2v10zm4 0h-2v-4h2v4z\"/>\n",
              "    </g>\n",
              "</svg>\n",
              "  </button>\n",
              "\n",
              "<style>\n",
              "  .colab-df-quickchart {\n",
              "      --bg-color: #E8F0FE;\n",
              "      --fill-color: #1967D2;\n",
              "      --hover-bg-color: #E2EBFA;\n",
              "      --hover-fill-color: #174EA6;\n",
              "      --disabled-fill-color: #AAA;\n",
              "      --disabled-bg-color: #DDD;\n",
              "  }\n",
              "\n",
              "  [theme=dark] .colab-df-quickchart {\n",
              "      --bg-color: #3B4455;\n",
              "      --fill-color: #D2E3FC;\n",
              "      --hover-bg-color: #434B5C;\n",
              "      --hover-fill-color: #FFFFFF;\n",
              "      --disabled-bg-color: #3B4455;\n",
              "      --disabled-fill-color: #666;\n",
              "  }\n",
              "\n",
              "  .colab-df-quickchart {\n",
              "    background-color: var(--bg-color);\n",
              "    border: none;\n",
              "    border-radius: 50%;\n",
              "    cursor: pointer;\n",
              "    display: none;\n",
              "    fill: var(--fill-color);\n",
              "    height: 32px;\n",
              "    padding: 0;\n",
              "    width: 32px;\n",
              "  }\n",
              "\n",
              "  .colab-df-quickchart:hover {\n",
              "    background-color: var(--hover-bg-color);\n",
              "    box-shadow: 0 1px 2px rgba(60, 64, 67, 0.3), 0 1px 3px 1px rgba(60, 64, 67, 0.15);\n",
              "    fill: var(--button-hover-fill-color);\n",
              "  }\n",
              "\n",
              "  .colab-df-quickchart-complete:disabled,\n",
              "  .colab-df-quickchart-complete:disabled:hover {\n",
              "    background-color: var(--disabled-bg-color);\n",
              "    fill: var(--disabled-fill-color);\n",
              "    box-shadow: none;\n",
              "  }\n",
              "\n",
              "  .colab-df-spinner {\n",
              "    border: 2px solid var(--fill-color);\n",
              "    border-color: transparent;\n",
              "    border-bottom-color: var(--fill-color);\n",
              "    animation:\n",
              "      spin 1s steps(1) infinite;\n",
              "  }\n",
              "\n",
              "  @keyframes spin {\n",
              "    0% {\n",
              "      border-color: transparent;\n",
              "      border-bottom-color: var(--fill-color);\n",
              "      border-left-color: var(--fill-color);\n",
              "    }\n",
              "    20% {\n",
              "      border-color: transparent;\n",
              "      border-left-color: var(--fill-color);\n",
              "      border-top-color: var(--fill-color);\n",
              "    }\n",
              "    30% {\n",
              "      border-color: transparent;\n",
              "      border-left-color: var(--fill-color);\n",
              "      border-top-color: var(--fill-color);\n",
              "      border-right-color: var(--fill-color);\n",
              "    }\n",
              "    40% {\n",
              "      border-color: transparent;\n",
              "      border-right-color: var(--fill-color);\n",
              "      border-top-color: var(--fill-color);\n",
              "    }\n",
              "    60% {\n",
              "      border-color: transparent;\n",
              "      border-right-color: var(--fill-color);\n",
              "    }\n",
              "    80% {\n",
              "      border-color: transparent;\n",
              "      border-right-color: var(--fill-color);\n",
              "      border-bottom-color: var(--fill-color);\n",
              "    }\n",
              "    90% {\n",
              "      border-color: transparent;\n",
              "      border-bottom-color: var(--fill-color);\n",
              "    }\n",
              "  }\n",
              "</style>\n",
              "\n",
              "  <script>\n",
              "    async function quickchart(key) {\n",
              "      const quickchartButtonEl =\n",
              "        document.querySelector('#' + key + ' button');\n",
              "      quickchartButtonEl.disabled = true;  // To prevent multiple clicks.\n",
              "      quickchartButtonEl.classList.add('colab-df-spinner');\n",
              "      try {\n",
              "        const charts = await google.colab.kernel.invokeFunction(\n",
              "            'suggestCharts', [key], {});\n",
              "      } catch (error) {\n",
              "        console.error('Error during call to suggestCharts:', error);\n",
              "      }\n",
              "      quickchartButtonEl.classList.remove('colab-df-spinner');\n",
              "      quickchartButtonEl.classList.add('colab-df-quickchart-complete');\n",
              "    }\n",
              "    (() => {\n",
              "      let quickchartButtonEl =\n",
              "        document.querySelector('#df-3f6f4076-2d9f-4a05-9034-756c253067d2 button');\n",
              "      quickchartButtonEl.style.display =\n",
              "        google.colab.kernel.accessAllowed ? 'block' : 'none';\n",
              "    })();\n",
              "  </script>\n",
              "</div>\n",
              "    </div>\n",
              "  </div>\n"
            ],
            "application/vnd.google.colaboratory.intrinsic+json": {
              "type": "dataframe",
              "summary": "{\n  \"name\": \"recommend_questions([1200 ,19897, 3])\",\n  \"rows\": 8,\n  \"fields\": [\n    {\n      \"column\": \"questions_title\",\n      \"properties\": {\n        \"dtype\": \"string\",\n        \"num_unique_values\": 8,\n        \"samples\": [\n          \"What are the most common and uncommon battles in trying to become or already being and entrepreneur?\",\n          \"Which Business field of study is best suited to cover the Business Career?\",\n          \"How do you get started in starting your own business?\"\n        ],\n        \"semantic_type\": \"\",\n        \"description\": \"\"\n      }\n    },\n    {\n      \"column\": \"question_features\",\n      \"properties\": {\n        \"dtype\": \"object\",\n        \"semantic_type\": \"\",\n        \"description\": \"\"\n      }\n    }\n  ]\n}"
            }
          },
          "metadata": {}
        },
        {
          "output_type": "stream",
          "name": "stdout",
          "text": [
            "Professional Id (19897): Previous Answered Questions\n"
          ]
        },
        {
          "output_type": "display_data",
          "data": {
            "text/html": [
              "<table style=\"display:inline\" border=\"1\" class=\"dataframe\">\n",
              "  <thead>\n",
              "    <tr style=\"text-align: right;\">\n",
              "      <th></th>\n",
              "      <th>questions_title</th>\n",
              "      <th>question_features</th>\n",
              "    </tr>\n",
              "  </thead>\n",
              "  <tbody>\n",
              "    <tr>\n",
              "      <th>22784</th>\n",
              "      <td>Do companies truly focus on your college major when applying for jobs?</td>\n",
              "      <td>(22784, [major])</td>\n",
              "    </tr>\n",
              "  </tbody>\n",
              "</table style=\"display:inline\"><table style=\"display:inline\" border=\"1\" class=\"dataframe\">\n",
              "  <thead>\n",
              "    <tr style=\"text-align: right;\">\n",
              "      <th></th>\n",
              "      <th>professionals_id_num</th>\n",
              "      <th>professionals_tag_name</th>\n",
              "    </tr>\n",
              "  </thead>\n",
              "  <tbody>\n",
              "    <tr>\n",
              "      <th>19897</th>\n",
              "      <td>19897</td>\n",
              "      <td>graphic-design,illustration,adobe-creative-suite,comic-books</td>\n",
              "    </tr>\n",
              "  </tbody>\n",
              "</table style=\"display:inline\">"
            ]
          },
          "metadata": {}
        },
        {
          "output_type": "stream",
          "name": "stdout",
          "text": [
            "Professional Id (19897): Recommended Questions: \n"
          ]
        },
        {
          "output_type": "display_data",
          "data": {
            "text/plain": [
              "                                         questions_title  \\\n",
              "19407  How can you be a successful photographer? What...   \n",
              "9682                    How to get started in animation?   \n",
              "2310   what is one of best things about being an anim...   \n",
              "19275  how do i get my content (animations) out in th...   \n",
              "6058   How should you start in the Graphic Design ind...   \n",
              "1203            What is a good app to use for animating?   \n",
              "1416   Is Competition In The Animation Field Low or H...   \n",
              "13484  Would a Graphic Design degree be a feesible op...   \n",
              "\n",
              "                                 question_features  \n",
              "19407  (19407, [photography, art, graphic-design])  \n",
              "9682              (9682, [artist, art, animation])  \n",
              "2310      (2310, [artist, art, animation, design])  \n",
              "19275                    (19275, [art, animation])  \n",
              "6058         (6058, [art, design, graphic-design])  \n",
              "1203                      (1203, [art, animation])  \n",
              "1416                      (1416, [art, animation])  \n",
              "13484               (13484, [art, graphic-design])  "
            ],
            "text/html": [
              "\n",
              "  <div id=\"df-e00de46f-96b0-4504-9eb8-bb815d3a04e3\" class=\"colab-df-container\">\n",
              "    <div>\n",
              "<style scoped>\n",
              "    .dataframe tbody tr th:only-of-type {\n",
              "        vertical-align: middle;\n",
              "    }\n",
              "\n",
              "    .dataframe tbody tr th {\n",
              "        vertical-align: top;\n",
              "    }\n",
              "\n",
              "    .dataframe thead th {\n",
              "        text-align: right;\n",
              "    }\n",
              "</style>\n",
              "<table border=\"1\" class=\"dataframe\">\n",
              "  <thead>\n",
              "    <tr style=\"text-align: right;\">\n",
              "      <th></th>\n",
              "      <th>questions_title</th>\n",
              "      <th>question_features</th>\n",
              "    </tr>\n",
              "  </thead>\n",
              "  <tbody>\n",
              "    <tr>\n",
              "      <th>19407</th>\n",
              "      <td>How can you be a successful photographer? What...</td>\n",
              "      <td>(19407, [photography, art, graphic-design])</td>\n",
              "    </tr>\n",
              "    <tr>\n",
              "      <th>9682</th>\n",
              "      <td>How to get started in animation?</td>\n",
              "      <td>(9682, [artist, art, animation])</td>\n",
              "    </tr>\n",
              "    <tr>\n",
              "      <th>2310</th>\n",
              "      <td>what is one of best things about being an anim...</td>\n",
              "      <td>(2310, [artist, art, animation, design])</td>\n",
              "    </tr>\n",
              "    <tr>\n",
              "      <th>19275</th>\n",
              "      <td>how do i get my content (animations) out in th...</td>\n",
              "      <td>(19275, [art, animation])</td>\n",
              "    </tr>\n",
              "    <tr>\n",
              "      <th>6058</th>\n",
              "      <td>How should you start in the Graphic Design ind...</td>\n",
              "      <td>(6058, [art, design, graphic-design])</td>\n",
              "    </tr>\n",
              "    <tr>\n",
              "      <th>1203</th>\n",
              "      <td>What is a good app to use for animating?</td>\n",
              "      <td>(1203, [art, animation])</td>\n",
              "    </tr>\n",
              "    <tr>\n",
              "      <th>1416</th>\n",
              "      <td>Is Competition In The Animation Field Low or H...</td>\n",
              "      <td>(1416, [art, animation])</td>\n",
              "    </tr>\n",
              "    <tr>\n",
              "      <th>13484</th>\n",
              "      <td>Would a Graphic Design degree be a feesible op...</td>\n",
              "      <td>(13484, [art, graphic-design])</td>\n",
              "    </tr>\n",
              "  </tbody>\n",
              "</table>\n",
              "</div>\n",
              "    <div class=\"colab-df-buttons\">\n",
              "\n",
              "  <div class=\"colab-df-container\">\n",
              "    <button class=\"colab-df-convert\" onclick=\"convertToInteractive('df-e00de46f-96b0-4504-9eb8-bb815d3a04e3')\"\n",
              "            title=\"Convert this dataframe to an interactive table.\"\n",
              "            style=\"display:none;\">\n",
              "\n",
              "  <svg xmlns=\"http://www.w3.org/2000/svg\" height=\"24px\" viewBox=\"0 -960 960 960\">\n",
              "    <path d=\"M120-120v-720h720v720H120Zm60-500h600v-160H180v160Zm220 220h160v-160H400v160Zm0 220h160v-160H400v160ZM180-400h160v-160H180v160Zm440 0h160v-160H620v160ZM180-180h160v-160H180v160Zm440 0h160v-160H620v160Z\"/>\n",
              "  </svg>\n",
              "    </button>\n",
              "\n",
              "  <style>\n",
              "    .colab-df-container {\n",
              "      display:flex;\n",
              "      gap: 12px;\n",
              "    }\n",
              "\n",
              "    .colab-df-convert {\n",
              "      background-color: #E8F0FE;\n",
              "      border: none;\n",
              "      border-radius: 50%;\n",
              "      cursor: pointer;\n",
              "      display: none;\n",
              "      fill: #1967D2;\n",
              "      height: 32px;\n",
              "      padding: 0 0 0 0;\n",
              "      width: 32px;\n",
              "    }\n",
              "\n",
              "    .colab-df-convert:hover {\n",
              "      background-color: #E2EBFA;\n",
              "      box-shadow: 0px 1px 2px rgba(60, 64, 67, 0.3), 0px 1px 3px 1px rgba(60, 64, 67, 0.15);\n",
              "      fill: #174EA6;\n",
              "    }\n",
              "\n",
              "    .colab-df-buttons div {\n",
              "      margin-bottom: 4px;\n",
              "    }\n",
              "\n",
              "    [theme=dark] .colab-df-convert {\n",
              "      background-color: #3B4455;\n",
              "      fill: #D2E3FC;\n",
              "    }\n",
              "\n",
              "    [theme=dark] .colab-df-convert:hover {\n",
              "      background-color: #434B5C;\n",
              "      box-shadow: 0px 1px 3px 1px rgba(0, 0, 0, 0.15);\n",
              "      filter: drop-shadow(0px 1px 2px rgba(0, 0, 0, 0.3));\n",
              "      fill: #FFFFFF;\n",
              "    }\n",
              "  </style>\n",
              "\n",
              "    <script>\n",
              "      const buttonEl =\n",
              "        document.querySelector('#df-e00de46f-96b0-4504-9eb8-bb815d3a04e3 button.colab-df-convert');\n",
              "      buttonEl.style.display =\n",
              "        google.colab.kernel.accessAllowed ? 'block' : 'none';\n",
              "\n",
              "      async function convertToInteractive(key) {\n",
              "        const element = document.querySelector('#df-e00de46f-96b0-4504-9eb8-bb815d3a04e3');\n",
              "        const dataTable =\n",
              "          await google.colab.kernel.invokeFunction('convertToInteractive',\n",
              "                                                    [key], {});\n",
              "        if (!dataTable) return;\n",
              "\n",
              "        const docLinkHtml = 'Like what you see? Visit the ' +\n",
              "          '<a target=\"_blank\" href=https://colab.research.google.com/notebooks/data_table.ipynb>data table notebook</a>'\n",
              "          + ' to learn more about interactive tables.';\n",
              "        element.innerHTML = '';\n",
              "        dataTable['output_type'] = 'display_data';\n",
              "        await google.colab.output.renderOutput(dataTable, element);\n",
              "        const docLink = document.createElement('div');\n",
              "        docLink.innerHTML = docLinkHtml;\n",
              "        element.appendChild(docLink);\n",
              "      }\n",
              "    </script>\n",
              "  </div>\n",
              "\n",
              "\n",
              "<div id=\"df-4cd5ae05-a5f6-4b8b-977f-d489093b2bcf\">\n",
              "  <button class=\"colab-df-quickchart\" onclick=\"quickchart('df-4cd5ae05-a5f6-4b8b-977f-d489093b2bcf')\"\n",
              "            title=\"Suggest charts\"\n",
              "            style=\"display:none;\">\n",
              "\n",
              "<svg xmlns=\"http://www.w3.org/2000/svg\" height=\"24px\"viewBox=\"0 0 24 24\"\n",
              "     width=\"24px\">\n",
              "    <g>\n",
              "        <path d=\"M19 3H5c-1.1 0-2 .9-2 2v14c0 1.1.9 2 2 2h14c1.1 0 2-.9 2-2V5c0-1.1-.9-2-2-2zM9 17H7v-7h2v7zm4 0h-2V7h2v10zm4 0h-2v-4h2v4z\"/>\n",
              "    </g>\n",
              "</svg>\n",
              "  </button>\n",
              "\n",
              "<style>\n",
              "  .colab-df-quickchart {\n",
              "      --bg-color: #E8F0FE;\n",
              "      --fill-color: #1967D2;\n",
              "      --hover-bg-color: #E2EBFA;\n",
              "      --hover-fill-color: #174EA6;\n",
              "      --disabled-fill-color: #AAA;\n",
              "      --disabled-bg-color: #DDD;\n",
              "  }\n",
              "\n",
              "  [theme=dark] .colab-df-quickchart {\n",
              "      --bg-color: #3B4455;\n",
              "      --fill-color: #D2E3FC;\n",
              "      --hover-bg-color: #434B5C;\n",
              "      --hover-fill-color: #FFFFFF;\n",
              "      --disabled-bg-color: #3B4455;\n",
              "      --disabled-fill-color: #666;\n",
              "  }\n",
              "\n",
              "  .colab-df-quickchart {\n",
              "    background-color: var(--bg-color);\n",
              "    border: none;\n",
              "    border-radius: 50%;\n",
              "    cursor: pointer;\n",
              "    display: none;\n",
              "    fill: var(--fill-color);\n",
              "    height: 32px;\n",
              "    padding: 0;\n",
              "    width: 32px;\n",
              "  }\n",
              "\n",
              "  .colab-df-quickchart:hover {\n",
              "    background-color: var(--hover-bg-color);\n",
              "    box-shadow: 0 1px 2px rgba(60, 64, 67, 0.3), 0 1px 3px 1px rgba(60, 64, 67, 0.15);\n",
              "    fill: var(--button-hover-fill-color);\n",
              "  }\n",
              "\n",
              "  .colab-df-quickchart-complete:disabled,\n",
              "  .colab-df-quickchart-complete:disabled:hover {\n",
              "    background-color: var(--disabled-bg-color);\n",
              "    fill: var(--disabled-fill-color);\n",
              "    box-shadow: none;\n",
              "  }\n",
              "\n",
              "  .colab-df-spinner {\n",
              "    border: 2px solid var(--fill-color);\n",
              "    border-color: transparent;\n",
              "    border-bottom-color: var(--fill-color);\n",
              "    animation:\n",
              "      spin 1s steps(1) infinite;\n",
              "  }\n",
              "\n",
              "  @keyframes spin {\n",
              "    0% {\n",
              "      border-color: transparent;\n",
              "      border-bottom-color: var(--fill-color);\n",
              "      border-left-color: var(--fill-color);\n",
              "    }\n",
              "    20% {\n",
              "      border-color: transparent;\n",
              "      border-left-color: var(--fill-color);\n",
              "      border-top-color: var(--fill-color);\n",
              "    }\n",
              "    30% {\n",
              "      border-color: transparent;\n",
              "      border-left-color: var(--fill-color);\n",
              "      border-top-color: var(--fill-color);\n",
              "      border-right-color: var(--fill-color);\n",
              "    }\n",
              "    40% {\n",
              "      border-color: transparent;\n",
              "      border-right-color: var(--fill-color);\n",
              "      border-top-color: var(--fill-color);\n",
              "    }\n",
              "    60% {\n",
              "      border-color: transparent;\n",
              "      border-right-color: var(--fill-color);\n",
              "    }\n",
              "    80% {\n",
              "      border-color: transparent;\n",
              "      border-right-color: var(--fill-color);\n",
              "      border-bottom-color: var(--fill-color);\n",
              "    }\n",
              "    90% {\n",
              "      border-color: transparent;\n",
              "      border-bottom-color: var(--fill-color);\n",
              "    }\n",
              "  }\n",
              "</style>\n",
              "\n",
              "  <script>\n",
              "    async function quickchart(key) {\n",
              "      const quickchartButtonEl =\n",
              "        document.querySelector('#' + key + ' button');\n",
              "      quickchartButtonEl.disabled = true;  // To prevent multiple clicks.\n",
              "      quickchartButtonEl.classList.add('colab-df-spinner');\n",
              "      try {\n",
              "        const charts = await google.colab.kernel.invokeFunction(\n",
              "            'suggestCharts', [key], {});\n",
              "      } catch (error) {\n",
              "        console.error('Error during call to suggestCharts:', error);\n",
              "      }\n",
              "      quickchartButtonEl.classList.remove('colab-df-spinner');\n",
              "      quickchartButtonEl.classList.add('colab-df-quickchart-complete');\n",
              "    }\n",
              "    (() => {\n",
              "      let quickchartButtonEl =\n",
              "        document.querySelector('#df-4cd5ae05-a5f6-4b8b-977f-d489093b2bcf button');\n",
              "      quickchartButtonEl.style.display =\n",
              "        google.colab.kernel.accessAllowed ? 'block' : 'none';\n",
              "    })();\n",
              "  </script>\n",
              "</div>\n",
              "    </div>\n",
              "  </div>\n"
            ],
            "application/vnd.google.colaboratory.intrinsic+json": {
              "type": "dataframe",
              "summary": "{\n  \"name\": \"recommend_questions([1200 ,19897, 3])\",\n  \"rows\": 8,\n  \"fields\": [\n    {\n      \"column\": \"questions_title\",\n      \"properties\": {\n        \"dtype\": \"string\",\n        \"num_unique_values\": 8,\n        \"samples\": [\n          \"How to get started in animation?\",\n          \"What is a good app to use for animating?\",\n          \"How can you be a successful photographer? What materials should you buy to start off?\"\n        ],\n        \"semantic_type\": \"\",\n        \"description\": \"\"\n      }\n    },\n    {\n      \"column\": \"question_features\",\n      \"properties\": {\n        \"dtype\": \"object\",\n        \"semantic_type\": \"\",\n        \"description\": \"\"\n      }\n    }\n  ]\n}"
            }
          },
          "metadata": {}
        },
        {
          "output_type": "stream",
          "name": "stdout",
          "text": [
            "Professional Id (3): Previous Answered Questions\n"
          ]
        },
        {
          "output_type": "display_data",
          "data": {
            "text/html": [
              "<table style=\"display:inline\" border=\"1\" class=\"dataframe\">\n",
              "  <thead>\n",
              "    <tr style=\"text-align: right;\">\n",
              "      <th></th>\n",
              "      <th>questions_title</th>\n",
              "      <th>question_features</th>\n",
              "    </tr>\n",
              "  </thead>\n",
              "  <tbody>\n",
              "    <tr>\n",
              "      <th>108</th>\n",
              "      <td>what are the top colleges for forensic science?</td>\n",
              "      <td>(108, [college, forensic, criminal-justice])</td>\n",
              "    </tr>\n",
              "    <tr>\n",
              "      <th>754</th>\n",
              "      <td>Are there any Forensic Sceince programs for High School Juniors/Seniors?</td>\n",
              "      <td>(754, [forensic, science])</td>\n",
              "    </tr>\n",
              "    <tr>\n",
              "      <th>3016</th>\n",
              "      <td>How can i be a transport company owner?</td>\n",
              "      <td>(3016, [business, college-majors])</td>\n",
              "    </tr>\n",
              "  </tbody>\n",
              "</table style=\"display:inline\"><table style=\"display:inline\" border=\"1\" class=\"dataframe\">\n",
              "  <thead>\n",
              "    <tr style=\"text-align: right;\">\n",
              "      <th></th>\n",
              "      <th>professionals_id_num</th>\n",
              "      <th>professionals_tag_name</th>\n",
              "    </tr>\n",
              "  </thead>\n",
              "  <tbody>\n",
              "    <tr>\n",
              "      <th>3</th>\n",
              "      <td>3</td>\n",
              "      <td>NaN</td>\n",
              "    </tr>\n",
              "  </tbody>\n",
              "</table style=\"display:inline\">"
            ]
          },
          "metadata": {}
        },
        {
          "output_type": "stream",
          "name": "stdout",
          "text": [
            "Professional Id (3): Recommended Questions: \n"
          ]
        },
        {
          "output_type": "display_data",
          "data": {
            "text/plain": [
              "                                         questions_title  \\\n",
              "2423        How long does it take to become a Detective?   \n",
              "17184                What types of Detectives are there?   \n",
              "9778   I want to be a police officer or a police disp...   \n",
              "18872    What majors would fit a law enforcement career?   \n",
              "16214  Do you go to college, then B.L.E.T( Basic Law ...   \n",
              "10534  Is there any required college courses to becom...   \n",
              "1941     What are important characteristics of a lawyer?   \n",
              "18947  Could I go straight into Law Enforcememt, when...   \n",
              "\n",
              "                                       question_features  \n",
              "2423   (2423, [lawyer, criminal-justice, police, law-...  \n",
              "17184  (17184, [lawyer, criminal-justice, police, law...  \n",
              "9778   (9778, [police-officer, criminal-justice, poli...  \n",
              "18872            (18872, [police, law-enforcement, law])  \n",
              "16214            (16214, [police, law-enforcement, law])  \n",
              "10534            (10534, [police, law-enforcement, law])  \n",
              "1941   (1941, [law-school, lawyer, law-enforcement, l...  \n",
              "18947            (18947, [police, law-enforcement, law])  "
            ],
            "text/html": [
              "\n",
              "  <div id=\"df-25566542-5a20-4f9c-859f-3b24956b2b34\" class=\"colab-df-container\">\n",
              "    <div>\n",
              "<style scoped>\n",
              "    .dataframe tbody tr th:only-of-type {\n",
              "        vertical-align: middle;\n",
              "    }\n",
              "\n",
              "    .dataframe tbody tr th {\n",
              "        vertical-align: top;\n",
              "    }\n",
              "\n",
              "    .dataframe thead th {\n",
              "        text-align: right;\n",
              "    }\n",
              "</style>\n",
              "<table border=\"1\" class=\"dataframe\">\n",
              "  <thead>\n",
              "    <tr style=\"text-align: right;\">\n",
              "      <th></th>\n",
              "      <th>questions_title</th>\n",
              "      <th>question_features</th>\n",
              "    </tr>\n",
              "  </thead>\n",
              "  <tbody>\n",
              "    <tr>\n",
              "      <th>2423</th>\n",
              "      <td>How long does it take to become a Detective?</td>\n",
              "      <td>(2423, [lawyer, criminal-justice, police, law-...</td>\n",
              "    </tr>\n",
              "    <tr>\n",
              "      <th>17184</th>\n",
              "      <td>What types of Detectives are there?</td>\n",
              "      <td>(17184, [lawyer, criminal-justice, police, law...</td>\n",
              "    </tr>\n",
              "    <tr>\n",
              "      <th>9778</th>\n",
              "      <td>I want to be a police officer or a police disp...</td>\n",
              "      <td>(9778, [police-officer, criminal-justice, poli...</td>\n",
              "    </tr>\n",
              "    <tr>\n",
              "      <th>18872</th>\n",
              "      <td>What majors would fit a law enforcement career?</td>\n",
              "      <td>(18872, [police, law-enforcement, law])</td>\n",
              "    </tr>\n",
              "    <tr>\n",
              "      <th>16214</th>\n",
              "      <td>Do you go to college, then B.L.E.T( Basic Law ...</td>\n",
              "      <td>(16214, [police, law-enforcement, law])</td>\n",
              "    </tr>\n",
              "    <tr>\n",
              "      <th>10534</th>\n",
              "      <td>Is there any required college courses to becom...</td>\n",
              "      <td>(10534, [police, law-enforcement, law])</td>\n",
              "    </tr>\n",
              "    <tr>\n",
              "      <th>1941</th>\n",
              "      <td>What are important characteristics of a lawyer?</td>\n",
              "      <td>(1941, [law-school, lawyer, law-enforcement, l...</td>\n",
              "    </tr>\n",
              "    <tr>\n",
              "      <th>18947</th>\n",
              "      <td>Could I go straight into Law Enforcememt, when...</td>\n",
              "      <td>(18947, [police, law-enforcement, law])</td>\n",
              "    </tr>\n",
              "  </tbody>\n",
              "</table>\n",
              "</div>\n",
              "    <div class=\"colab-df-buttons\">\n",
              "\n",
              "  <div class=\"colab-df-container\">\n",
              "    <button class=\"colab-df-convert\" onclick=\"convertToInteractive('df-25566542-5a20-4f9c-859f-3b24956b2b34')\"\n",
              "            title=\"Convert this dataframe to an interactive table.\"\n",
              "            style=\"display:none;\">\n",
              "\n",
              "  <svg xmlns=\"http://www.w3.org/2000/svg\" height=\"24px\" viewBox=\"0 -960 960 960\">\n",
              "    <path d=\"M120-120v-720h720v720H120Zm60-500h600v-160H180v160Zm220 220h160v-160H400v160Zm0 220h160v-160H400v160ZM180-400h160v-160H180v160Zm440 0h160v-160H620v160ZM180-180h160v-160H180v160Zm440 0h160v-160H620v160Z\"/>\n",
              "  </svg>\n",
              "    </button>\n",
              "\n",
              "  <style>\n",
              "    .colab-df-container {\n",
              "      display:flex;\n",
              "      gap: 12px;\n",
              "    }\n",
              "\n",
              "    .colab-df-convert {\n",
              "      background-color: #E8F0FE;\n",
              "      border: none;\n",
              "      border-radius: 50%;\n",
              "      cursor: pointer;\n",
              "      display: none;\n",
              "      fill: #1967D2;\n",
              "      height: 32px;\n",
              "      padding: 0 0 0 0;\n",
              "      width: 32px;\n",
              "    }\n",
              "\n",
              "    .colab-df-convert:hover {\n",
              "      background-color: #E2EBFA;\n",
              "      box-shadow: 0px 1px 2px rgba(60, 64, 67, 0.3), 0px 1px 3px 1px rgba(60, 64, 67, 0.15);\n",
              "      fill: #174EA6;\n",
              "    }\n",
              "\n",
              "    .colab-df-buttons div {\n",
              "      margin-bottom: 4px;\n",
              "    }\n",
              "\n",
              "    [theme=dark] .colab-df-convert {\n",
              "      background-color: #3B4455;\n",
              "      fill: #D2E3FC;\n",
              "    }\n",
              "\n",
              "    [theme=dark] .colab-df-convert:hover {\n",
              "      background-color: #434B5C;\n",
              "      box-shadow: 0px 1px 3px 1px rgba(0, 0, 0, 0.15);\n",
              "      filter: drop-shadow(0px 1px 2px rgba(0, 0, 0, 0.3));\n",
              "      fill: #FFFFFF;\n",
              "    }\n",
              "  </style>\n",
              "\n",
              "    <script>\n",
              "      const buttonEl =\n",
              "        document.querySelector('#df-25566542-5a20-4f9c-859f-3b24956b2b34 button.colab-df-convert');\n",
              "      buttonEl.style.display =\n",
              "        google.colab.kernel.accessAllowed ? 'block' : 'none';\n",
              "\n",
              "      async function convertToInteractive(key) {\n",
              "        const element = document.querySelector('#df-25566542-5a20-4f9c-859f-3b24956b2b34');\n",
              "        const dataTable =\n",
              "          await google.colab.kernel.invokeFunction('convertToInteractive',\n",
              "                                                    [key], {});\n",
              "        if (!dataTable) return;\n",
              "\n",
              "        const docLinkHtml = 'Like what you see? Visit the ' +\n",
              "          '<a target=\"_blank\" href=https://colab.research.google.com/notebooks/data_table.ipynb>data table notebook</a>'\n",
              "          + ' to learn more about interactive tables.';\n",
              "        element.innerHTML = '';\n",
              "        dataTable['output_type'] = 'display_data';\n",
              "        await google.colab.output.renderOutput(dataTable, element);\n",
              "        const docLink = document.createElement('div');\n",
              "        docLink.innerHTML = docLinkHtml;\n",
              "        element.appendChild(docLink);\n",
              "      }\n",
              "    </script>\n",
              "  </div>\n",
              "\n",
              "\n",
              "<div id=\"df-454455f8-b625-464c-9ecc-16fc3e47af79\">\n",
              "  <button class=\"colab-df-quickchart\" onclick=\"quickchart('df-454455f8-b625-464c-9ecc-16fc3e47af79')\"\n",
              "            title=\"Suggest charts\"\n",
              "            style=\"display:none;\">\n",
              "\n",
              "<svg xmlns=\"http://www.w3.org/2000/svg\" height=\"24px\"viewBox=\"0 0 24 24\"\n",
              "     width=\"24px\">\n",
              "    <g>\n",
              "        <path d=\"M19 3H5c-1.1 0-2 .9-2 2v14c0 1.1.9 2 2 2h14c1.1 0 2-.9 2-2V5c0-1.1-.9-2-2-2zM9 17H7v-7h2v7zm4 0h-2V7h2v10zm4 0h-2v-4h2v4z\"/>\n",
              "    </g>\n",
              "</svg>\n",
              "  </button>\n",
              "\n",
              "<style>\n",
              "  .colab-df-quickchart {\n",
              "      --bg-color: #E8F0FE;\n",
              "      --fill-color: #1967D2;\n",
              "      --hover-bg-color: #E2EBFA;\n",
              "      --hover-fill-color: #174EA6;\n",
              "      --disabled-fill-color: #AAA;\n",
              "      --disabled-bg-color: #DDD;\n",
              "  }\n",
              "\n",
              "  [theme=dark] .colab-df-quickchart {\n",
              "      --bg-color: #3B4455;\n",
              "      --fill-color: #D2E3FC;\n",
              "      --hover-bg-color: #434B5C;\n",
              "      --hover-fill-color: #FFFFFF;\n",
              "      --disabled-bg-color: #3B4455;\n",
              "      --disabled-fill-color: #666;\n",
              "  }\n",
              "\n",
              "  .colab-df-quickchart {\n",
              "    background-color: var(--bg-color);\n",
              "    border: none;\n",
              "    border-radius: 50%;\n",
              "    cursor: pointer;\n",
              "    display: none;\n",
              "    fill: var(--fill-color);\n",
              "    height: 32px;\n",
              "    padding: 0;\n",
              "    width: 32px;\n",
              "  }\n",
              "\n",
              "  .colab-df-quickchart:hover {\n",
              "    background-color: var(--hover-bg-color);\n",
              "    box-shadow: 0 1px 2px rgba(60, 64, 67, 0.3), 0 1px 3px 1px rgba(60, 64, 67, 0.15);\n",
              "    fill: var(--button-hover-fill-color);\n",
              "  }\n",
              "\n",
              "  .colab-df-quickchart-complete:disabled,\n",
              "  .colab-df-quickchart-complete:disabled:hover {\n",
              "    background-color: var(--disabled-bg-color);\n",
              "    fill: var(--disabled-fill-color);\n",
              "    box-shadow: none;\n",
              "  }\n",
              "\n",
              "  .colab-df-spinner {\n",
              "    border: 2px solid var(--fill-color);\n",
              "    border-color: transparent;\n",
              "    border-bottom-color: var(--fill-color);\n",
              "    animation:\n",
              "      spin 1s steps(1) infinite;\n",
              "  }\n",
              "\n",
              "  @keyframes spin {\n",
              "    0% {\n",
              "      border-color: transparent;\n",
              "      border-bottom-color: var(--fill-color);\n",
              "      border-left-color: var(--fill-color);\n",
              "    }\n",
              "    20% {\n",
              "      border-color: transparent;\n",
              "      border-left-color: var(--fill-color);\n",
              "      border-top-color: var(--fill-color);\n",
              "    }\n",
              "    30% {\n",
              "      border-color: transparent;\n",
              "      border-left-color: var(--fill-color);\n",
              "      border-top-color: var(--fill-color);\n",
              "      border-right-color: var(--fill-color);\n",
              "    }\n",
              "    40% {\n",
              "      border-color: transparent;\n",
              "      border-right-color: var(--fill-color);\n",
              "      border-top-color: var(--fill-color);\n",
              "    }\n",
              "    60% {\n",
              "      border-color: transparent;\n",
              "      border-right-color: var(--fill-color);\n",
              "    }\n",
              "    80% {\n",
              "      border-color: transparent;\n",
              "      border-right-color: var(--fill-color);\n",
              "      border-bottom-color: var(--fill-color);\n",
              "    }\n",
              "    90% {\n",
              "      border-color: transparent;\n",
              "      border-bottom-color: var(--fill-color);\n",
              "    }\n",
              "  }\n",
              "</style>\n",
              "\n",
              "  <script>\n",
              "    async function quickchart(key) {\n",
              "      const quickchartButtonEl =\n",
              "        document.querySelector('#' + key + ' button');\n",
              "      quickchartButtonEl.disabled = true;  // To prevent multiple clicks.\n",
              "      quickchartButtonEl.classList.add('colab-df-spinner');\n",
              "      try {\n",
              "        const charts = await google.colab.kernel.invokeFunction(\n",
              "            'suggestCharts', [key], {});\n",
              "      } catch (error) {\n",
              "        console.error('Error during call to suggestCharts:', error);\n",
              "      }\n",
              "      quickchartButtonEl.classList.remove('colab-df-spinner');\n",
              "      quickchartButtonEl.classList.add('colab-df-quickchart-complete');\n",
              "    }\n",
              "    (() => {\n",
              "      let quickchartButtonEl =\n",
              "        document.querySelector('#df-454455f8-b625-464c-9ecc-16fc3e47af79 button');\n",
              "      quickchartButtonEl.style.display =\n",
              "        google.colab.kernel.accessAllowed ? 'block' : 'none';\n",
              "    })();\n",
              "  </script>\n",
              "</div>\n",
              "    </div>\n",
              "  </div>\n"
            ],
            "application/vnd.google.colaboratory.intrinsic+json": {
              "type": "dataframe",
              "summary": "{\n  \"name\": \"recommend_questions([1200 ,19897, 3])\",\n  \"rows\": 8,\n  \"fields\": [\n    {\n      \"column\": \"questions_title\",\n      \"properties\": {\n        \"dtype\": \"string\",\n        \"num_unique_values\": 8,\n        \"samples\": [\n          \"What types of Detectives are there?\",\n          \"Is there any required college courses to become a detective?\",\n          \"How long does it take to become a Detective?\"\n        ],\n        \"semantic_type\": \"\",\n        \"description\": \"\"\n      }\n    },\n    {\n      \"column\": \"question_features\",\n      \"properties\": {\n        \"dtype\": \"object\",\n        \"semantic_type\": \"\",\n        \"description\": \"\"\n      }\n    }\n  ]\n}"
            }
          },
          "metadata": {}
        }
      ]
    },
    {
      "cell_type": "markdown",
      "source": [
        "###3 часть – ИНДЗ (4 баллов)\n",
        "\n",
        "Тема: Реализация гибридной модели рекомендаций на собственных данных\n",
        "\n",
        "Цель: научиться использовать библиотеку LightFM для построения гибридной рекомендательной системы, которая комбинирует коллаборативную фильтрацию и учёт признаков пользователей и/или товаров, на вашем собственном наборе данных.\n"
      ],
      "metadata": {
        "id": "BPC8j8_Qy_Ke"
      }
    },
    {
      "cell_type": "code",
      "source": [
        "from google.colab import files\n",
        "files.upload()"
      ],
      "metadata": {
        "id": "xR5-0wN0y_5v",
        "colab": {
          "base_uri": "https://localhost:8080/",
          "height": 90
        },
        "outputId": "1461142e-68a9-4076-9b11-3191a47d0059"
      },
      "execution_count": 41,
      "outputs": [
        {
          "output_type": "display_data",
          "data": {
            "text/plain": [
              "<IPython.core.display.HTML object>"
            ],
            "text/html": [
              "\n",
              "     <input type=\"file\" id=\"files-e55569db-c4b3-4a10-93d1-fe27d09e69b3\" name=\"files[]\" multiple disabled\n",
              "        style=\"border:none\" />\n",
              "     <output id=\"result-e55569db-c4b3-4a10-93d1-fe27d09e69b3\">\n",
              "      Upload widget is only available when the cell has been executed in the\n",
              "      current browser session. Please rerun this cell to enable.\n",
              "      </output>\n",
              "      <script>// Copyright 2017 Google LLC\n",
              "//\n",
              "// Licensed under the Apache License, Version 2.0 (the \"License\");\n",
              "// you may not use this file except in compliance with the License.\n",
              "// You may obtain a copy of the License at\n",
              "//\n",
              "//      http://www.apache.org/licenses/LICENSE-2.0\n",
              "//\n",
              "// Unless required by applicable law or agreed to in writing, software\n",
              "// distributed under the License is distributed on an \"AS IS\" BASIS,\n",
              "// WITHOUT WARRANTIES OR CONDITIONS OF ANY KIND, either express or implied.\n",
              "// See the License for the specific language governing permissions and\n",
              "// limitations under the License.\n",
              "\n",
              "/**\n",
              " * @fileoverview Helpers for google.colab Python module.\n",
              " */\n",
              "(function(scope) {\n",
              "function span(text, styleAttributes = {}) {\n",
              "  const element = document.createElement('span');\n",
              "  element.textContent = text;\n",
              "  for (const key of Object.keys(styleAttributes)) {\n",
              "    element.style[key] = styleAttributes[key];\n",
              "  }\n",
              "  return element;\n",
              "}\n",
              "\n",
              "// Max number of bytes which will be uploaded at a time.\n",
              "const MAX_PAYLOAD_SIZE = 100 * 1024;\n",
              "\n",
              "function _uploadFiles(inputId, outputId) {\n",
              "  const steps = uploadFilesStep(inputId, outputId);\n",
              "  const outputElement = document.getElementById(outputId);\n",
              "  // Cache steps on the outputElement to make it available for the next call\n",
              "  // to uploadFilesContinue from Python.\n",
              "  outputElement.steps = steps;\n",
              "\n",
              "  return _uploadFilesContinue(outputId);\n",
              "}\n",
              "\n",
              "// This is roughly an async generator (not supported in the browser yet),\n",
              "// where there are multiple asynchronous steps and the Python side is going\n",
              "// to poll for completion of each step.\n",
              "// This uses a Promise to block the python side on completion of each step,\n",
              "// then passes the result of the previous step as the input to the next step.\n",
              "function _uploadFilesContinue(outputId) {\n",
              "  const outputElement = document.getElementById(outputId);\n",
              "  const steps = outputElement.steps;\n",
              "\n",
              "  const next = steps.next(outputElement.lastPromiseValue);\n",
              "  return Promise.resolve(next.value.promise).then((value) => {\n",
              "    // Cache the last promise value to make it available to the next\n",
              "    // step of the generator.\n",
              "    outputElement.lastPromiseValue = value;\n",
              "    return next.value.response;\n",
              "  });\n",
              "}\n",
              "\n",
              "/**\n",
              " * Generator function which is called between each async step of the upload\n",
              " * process.\n",
              " * @param {string} inputId Element ID of the input file picker element.\n",
              " * @param {string} outputId Element ID of the output display.\n",
              " * @return {!Iterable<!Object>} Iterable of next steps.\n",
              " */\n",
              "function* uploadFilesStep(inputId, outputId) {\n",
              "  const inputElement = document.getElementById(inputId);\n",
              "  inputElement.disabled = false;\n",
              "\n",
              "  const outputElement = document.getElementById(outputId);\n",
              "  outputElement.innerHTML = '';\n",
              "\n",
              "  const pickedPromise = new Promise((resolve) => {\n",
              "    inputElement.addEventListener('change', (e) => {\n",
              "      resolve(e.target.files);\n",
              "    });\n",
              "  });\n",
              "\n",
              "  const cancel = document.createElement('button');\n",
              "  inputElement.parentElement.appendChild(cancel);\n",
              "  cancel.textContent = 'Cancel upload';\n",
              "  const cancelPromise = new Promise((resolve) => {\n",
              "    cancel.onclick = () => {\n",
              "      resolve(null);\n",
              "    };\n",
              "  });\n",
              "\n",
              "  // Wait for the user to pick the files.\n",
              "  const files = yield {\n",
              "    promise: Promise.race([pickedPromise, cancelPromise]),\n",
              "    response: {\n",
              "      action: 'starting',\n",
              "    }\n",
              "  };\n",
              "\n",
              "  cancel.remove();\n",
              "\n",
              "  // Disable the input element since further picks are not allowed.\n",
              "  inputElement.disabled = true;\n",
              "\n",
              "  if (!files) {\n",
              "    return {\n",
              "      response: {\n",
              "        action: 'complete',\n",
              "      }\n",
              "    };\n",
              "  }\n",
              "\n",
              "  for (const file of files) {\n",
              "    const li = document.createElement('li');\n",
              "    li.append(span(file.name, {fontWeight: 'bold'}));\n",
              "    li.append(span(\n",
              "        `(${file.type || 'n/a'}) - ${file.size} bytes, ` +\n",
              "        `last modified: ${\n",
              "            file.lastModifiedDate ? file.lastModifiedDate.toLocaleDateString() :\n",
              "                                    'n/a'} - `));\n",
              "    const percent = span('0% done');\n",
              "    li.appendChild(percent);\n",
              "\n",
              "    outputElement.appendChild(li);\n",
              "\n",
              "    const fileDataPromise = new Promise((resolve) => {\n",
              "      const reader = new FileReader();\n",
              "      reader.onload = (e) => {\n",
              "        resolve(e.target.result);\n",
              "      };\n",
              "      reader.readAsArrayBuffer(file);\n",
              "    });\n",
              "    // Wait for the data to be ready.\n",
              "    let fileData = yield {\n",
              "      promise: fileDataPromise,\n",
              "      response: {\n",
              "        action: 'continue',\n",
              "      }\n",
              "    };\n",
              "\n",
              "    // Use a chunked sending to avoid message size limits. See b/62115660.\n",
              "    let position = 0;\n",
              "    do {\n",
              "      const length = Math.min(fileData.byteLength - position, MAX_PAYLOAD_SIZE);\n",
              "      const chunk = new Uint8Array(fileData, position, length);\n",
              "      position += length;\n",
              "\n",
              "      const base64 = btoa(String.fromCharCode.apply(null, chunk));\n",
              "      yield {\n",
              "        response: {\n",
              "          action: 'append',\n",
              "          file: file.name,\n",
              "          data: base64,\n",
              "        },\n",
              "      };\n",
              "\n",
              "      let percentDone = fileData.byteLength === 0 ?\n",
              "          100 :\n",
              "          Math.round((position / fileData.byteLength) * 100);\n",
              "      percent.textContent = `${percentDone}% done`;\n",
              "\n",
              "    } while (position < fileData.byteLength);\n",
              "  }\n",
              "\n",
              "  // All done.\n",
              "  yield {\n",
              "    response: {\n",
              "      action: 'complete',\n",
              "    }\n",
              "  };\n",
              "}\n",
              "\n",
              "scope.google = scope.google || {};\n",
              "scope.google.colab = scope.google.colab || {};\n",
              "scope.google.colab._files = {\n",
              "  _uploadFiles,\n",
              "  _uploadFilesContinue,\n",
              "};\n",
              "})(self);\n",
              "</script> "
            ]
          },
          "metadata": {}
        },
        {
          "output_type": "stream",
          "name": "stdout",
          "text": [
            "Saving kaggle.json to kaggle.json\n"
          ]
        },
        {
          "output_type": "execute_result",
          "data": {
            "text/plain": [
              "{'kaggle.json': b'{\"username\":\"mariavol\",\"key\":\"b921c4b7f908d0e79ac3af6065cc89e4\"}'}"
            ]
          },
          "metadata": {},
          "execution_count": 41
        }
      ]
    },
    {
      "cell_type": "code",
      "source": [
        "!mkdir -p ~/.kaggle\n",
        "!cp kaggle.json ~/.kaggle/\n",
        "!chmod 600 ~/.kaggle/kaggle.json"
      ],
      "metadata": {
        "id": "qknGI68j1xB-"
      },
      "execution_count": 42,
      "outputs": []
    },
    {
      "cell_type": "code",
      "source": [
        "!kaggle datasets download -d ruchi798/bookcrossing-dataset -p /content/drive/MyDrive/реки/lab_5"
      ],
      "metadata": {
        "colab": {
          "base_uri": "https://localhost:8080/"
        },
        "id": "ZnyH6n5tBIpw",
        "outputId": "02e7ec0e-7ffc-48e1-d41d-127ff07a2666"
      },
      "execution_count": 43,
      "outputs": [
        {
          "output_type": "stream",
          "name": "stdout",
          "text": [
            "Dataset URL: https://www.kaggle.com/datasets/ruchi798/bookcrossing-dataset\n",
            "License(s): CC0-1.0\n"
          ]
        }
      ]
    },
    {
      "cell_type": "code",
      "source": [
        "zip_path = '/content/drive/MyDrive/реки/lab_5/bookcrossing-dataset.zip'\n",
        "output_dir = '/content/drive/MyDrive/реки/lab_5'\n",
        "\n",
        "with zipfile.ZipFile(zip_path, 'r') as zip_ref:\n",
        "    zip_ref.extractall(output_dir)"
      ],
      "metadata": {
        "id": "Vtj7M2AMBK-B"
      },
      "execution_count": 44,
      "outputs": []
    },
    {
      "cell_type": "code",
      "source": [
        "base_path = '/content/drive/MyDrive/реки/lab_5/Book reviews/Book reviews/'\n",
        "\n",
        "books = pd.read_csv(base_path + 'BX_Books.csv', sep=';', encoding='latin-1', on_bad_lines='skip')\n",
        "users = pd.read_csv(base_path + 'BX-Users.csv', sep=';', encoding='latin-1', on_bad_lines='skip')\n",
        "ratings = pd.read_csv(base_path + 'BX-Book-Ratings.csv', sep=';', encoding='latin-1', on_bad_lines='skip')\n"
      ],
      "metadata": {
        "id": "OZGlyk8FBcYG"
      },
      "execution_count": 65,
      "outputs": []
    },
    {
      "cell_type": "code",
      "source": [
        "print(books.columns)\n",
        "print(users.columns)\n",
        "print(ratings.columns)"
      ],
      "metadata": {
        "colab": {
          "base_uri": "https://localhost:8080/"
        },
        "id": "joYnXd0MCjSM",
        "outputId": "2e2dae95-29c4-455c-e778-92a1c114d4db"
      },
      "execution_count": 66,
      "outputs": [
        {
          "output_type": "stream",
          "name": "stdout",
          "text": [
            "Index(['ISBN', 'Book-Title', 'Book-Author', 'Year-Of-Publication', 'Publisher',\n",
            "       'Image-URL-S', 'Image-URL-M', 'Image-URL-L'],\n",
            "      dtype='object')\n",
            "Index(['User-ID', 'Location', 'Age'], dtype='object')\n",
            "Index(['User-ID', 'ISBN', 'Book-Rating'], dtype='object')\n"
          ]
        }
      ]
    },
    {
      "cell_type": "markdown",
      "source": [
        "#####Ход работы\n",
        "1.\tПодготовка данных:\n",
        " - Загрузите ваш набор данных и подготовьте три компонента:\n",
        " -- матрицу взаимодействий;\n",
        " -- признаки пользователей;\n",
        " --\tпризнаки товаров.\n",
        " - Если у вас нет явных признаков пользователей или товаров, используйте dummy-признаки (например, идентификаторы).\n"
      ],
      "metadata": {
        "id": "2XSFoM4VDGO0"
      }
    },
    {
      "cell_type": "code",
      "source": [
        "#Матрица взаимодействий: только положительные оценки\n",
        "ratings = ratings[ratings['Book-Rating'] > 0]\n",
        "\n",
        "# - строки без user/book информации\n",
        "users = users.dropna(subset=['User-ID', 'Location'])\n",
        "books = books.dropna(subset=['ISBN', 'Book-Author'])\n",
        "\n",
        "# Огранич выборку (для ускорения обучения)\n",
        "top_users = ratings['User-ID'].value_counts().head(5000).index\n",
        "ratings = ratings[ratings['User-ID'].isin(top_users)]\n",
        "\n",
        "ratings = ratings.merge(users, on='User-ID', how='left')\n",
        "ratings = ratings.merge(books, on='ISBN', how='left')"
      ],
      "metadata": {
        "id": "P2zAUiTXClMH"
      },
      "execution_count": 67,
      "outputs": []
    },
    {
      "cell_type": "code",
      "source": [
        "dataset = Dataset()\n",
        "\n",
        "#  список пользователей и товаров + их признаки\n",
        "user_ids = ratings['User-ID'].astype(str)\n",
        "item_ids = ratings['ISBN'].astype(str)\n",
        "user_features_raw = ratings['Location'].fillna('unknown').astype(str)\n",
        "item_features_raw = ratings['Book-Author'].fillna('unknown').astype(str)\n",
        "\n",
        "# Fit для dataset - включает dummy id и признаки\n",
        "dataset.fit(\n",
        "    users=user_ids,\n",
        "    items=item_ids,\n",
        "    user_features=user_features_raw.unique(),\n",
        "    item_features=item_features_raw.unique()\n",
        ")"
      ],
      "metadata": {
        "id": "HQrPhi7xEyK2"
      },
      "execution_count": 68,
      "outputs": []
    },
    {
      "cell_type": "code",
      "source": [
        "dataframe=ratings[['User-ID', 'ISBN', 'Book-Rating', 'Location', 'Book-Author']]\n",
        "dataframe.head(5)"
      ],
      "metadata": {
        "colab": {
          "base_uri": "https://localhost:8080/",
          "height": 206
        },
        "id": "vgCu4OT5E5ti",
        "outputId": "ea83b613-9634-45c4-9191-05f603b95446"
      },
      "execution_count": 58,
      "outputs": [
        {
          "output_type": "execute_result",
          "data": {
            "text/plain": [
              "   User-ID        ISBN  Book-Rating                  Location  \\\n",
              "0   276822  0060096195           10  calgary, alberta, canada   \n",
              "1   276822  0141310340            9  calgary, alberta, canada   \n",
              "2   276822  0142302198           10  calgary, alberta, canada   \n",
              "3   276822  0156006065            9  calgary, alberta, canada   \n",
              "4   276822  0375821813            9  calgary, alberta, canada   \n",
              "\n",
              "        Book-Author  \n",
              "0      Meggin Cabot  \n",
              "1        Roald Dahl  \n",
              "2     Laurel Winter  \n",
              "3  Raymond Smullyan  \n",
              "4      CARL HIAASEN  "
            ],
            "text/html": [
              "\n",
              "  <div id=\"df-7bfab83a-b732-4ccd-ab20-071b8d0c7dd0\" class=\"colab-df-container\">\n",
              "    <div>\n",
              "<style scoped>\n",
              "    .dataframe tbody tr th:only-of-type {\n",
              "        vertical-align: middle;\n",
              "    }\n",
              "\n",
              "    .dataframe tbody tr th {\n",
              "        vertical-align: top;\n",
              "    }\n",
              "\n",
              "    .dataframe thead th {\n",
              "        text-align: right;\n",
              "    }\n",
              "</style>\n",
              "<table border=\"1\" class=\"dataframe\">\n",
              "  <thead>\n",
              "    <tr style=\"text-align: right;\">\n",
              "      <th></th>\n",
              "      <th>User-ID</th>\n",
              "      <th>ISBN</th>\n",
              "      <th>Book-Rating</th>\n",
              "      <th>Location</th>\n",
              "      <th>Book-Author</th>\n",
              "    </tr>\n",
              "  </thead>\n",
              "  <tbody>\n",
              "    <tr>\n",
              "      <th>0</th>\n",
              "      <td>276822</td>\n",
              "      <td>0060096195</td>\n",
              "      <td>10</td>\n",
              "      <td>calgary, alberta, canada</td>\n",
              "      <td>Meggin Cabot</td>\n",
              "    </tr>\n",
              "    <tr>\n",
              "      <th>1</th>\n",
              "      <td>276822</td>\n",
              "      <td>0141310340</td>\n",
              "      <td>9</td>\n",
              "      <td>calgary, alberta, canada</td>\n",
              "      <td>Roald Dahl</td>\n",
              "    </tr>\n",
              "    <tr>\n",
              "      <th>2</th>\n",
              "      <td>276822</td>\n",
              "      <td>0142302198</td>\n",
              "      <td>10</td>\n",
              "      <td>calgary, alberta, canada</td>\n",
              "      <td>Laurel Winter</td>\n",
              "    </tr>\n",
              "    <tr>\n",
              "      <th>3</th>\n",
              "      <td>276822</td>\n",
              "      <td>0156006065</td>\n",
              "      <td>9</td>\n",
              "      <td>calgary, alberta, canada</td>\n",
              "      <td>Raymond Smullyan</td>\n",
              "    </tr>\n",
              "    <tr>\n",
              "      <th>4</th>\n",
              "      <td>276822</td>\n",
              "      <td>0375821813</td>\n",
              "      <td>9</td>\n",
              "      <td>calgary, alberta, canada</td>\n",
              "      <td>CARL HIAASEN</td>\n",
              "    </tr>\n",
              "  </tbody>\n",
              "</table>\n",
              "</div>\n",
              "    <div class=\"colab-df-buttons\">\n",
              "\n",
              "  <div class=\"colab-df-container\">\n",
              "    <button class=\"colab-df-convert\" onclick=\"convertToInteractive('df-7bfab83a-b732-4ccd-ab20-071b8d0c7dd0')\"\n",
              "            title=\"Convert this dataframe to an interactive table.\"\n",
              "            style=\"display:none;\">\n",
              "\n",
              "  <svg xmlns=\"http://www.w3.org/2000/svg\" height=\"24px\" viewBox=\"0 -960 960 960\">\n",
              "    <path d=\"M120-120v-720h720v720H120Zm60-500h600v-160H180v160Zm220 220h160v-160H400v160Zm0 220h160v-160H400v160ZM180-400h160v-160H180v160Zm440 0h160v-160H620v160ZM180-180h160v-160H180v160Zm440 0h160v-160H620v160Z\"/>\n",
              "  </svg>\n",
              "    </button>\n",
              "\n",
              "  <style>\n",
              "    .colab-df-container {\n",
              "      display:flex;\n",
              "      gap: 12px;\n",
              "    }\n",
              "\n",
              "    .colab-df-convert {\n",
              "      background-color: #E8F0FE;\n",
              "      border: none;\n",
              "      border-radius: 50%;\n",
              "      cursor: pointer;\n",
              "      display: none;\n",
              "      fill: #1967D2;\n",
              "      height: 32px;\n",
              "      padding: 0 0 0 0;\n",
              "      width: 32px;\n",
              "    }\n",
              "\n",
              "    .colab-df-convert:hover {\n",
              "      background-color: #E2EBFA;\n",
              "      box-shadow: 0px 1px 2px rgba(60, 64, 67, 0.3), 0px 1px 3px 1px rgba(60, 64, 67, 0.15);\n",
              "      fill: #174EA6;\n",
              "    }\n",
              "\n",
              "    .colab-df-buttons div {\n",
              "      margin-bottom: 4px;\n",
              "    }\n",
              "\n",
              "    [theme=dark] .colab-df-convert {\n",
              "      background-color: #3B4455;\n",
              "      fill: #D2E3FC;\n",
              "    }\n",
              "\n",
              "    [theme=dark] .colab-df-convert:hover {\n",
              "      background-color: #434B5C;\n",
              "      box-shadow: 0px 1px 3px 1px rgba(0, 0, 0, 0.15);\n",
              "      filter: drop-shadow(0px 1px 2px rgba(0, 0, 0, 0.3));\n",
              "      fill: #FFFFFF;\n",
              "    }\n",
              "  </style>\n",
              "\n",
              "    <script>\n",
              "      const buttonEl =\n",
              "        document.querySelector('#df-7bfab83a-b732-4ccd-ab20-071b8d0c7dd0 button.colab-df-convert');\n",
              "      buttonEl.style.display =\n",
              "        google.colab.kernel.accessAllowed ? 'block' : 'none';\n",
              "\n",
              "      async function convertToInteractive(key) {\n",
              "        const element = document.querySelector('#df-7bfab83a-b732-4ccd-ab20-071b8d0c7dd0');\n",
              "        const dataTable =\n",
              "          await google.colab.kernel.invokeFunction('convertToInteractive',\n",
              "                                                    [key], {});\n",
              "        if (!dataTable) return;\n",
              "\n",
              "        const docLinkHtml = 'Like what you see? Visit the ' +\n",
              "          '<a target=\"_blank\" href=https://colab.research.google.com/notebooks/data_table.ipynb>data table notebook</a>'\n",
              "          + ' to learn more about interactive tables.';\n",
              "        element.innerHTML = '';\n",
              "        dataTable['output_type'] = 'display_data';\n",
              "        await google.colab.output.renderOutput(dataTable, element);\n",
              "        const docLink = document.createElement('div');\n",
              "        docLink.innerHTML = docLinkHtml;\n",
              "        element.appendChild(docLink);\n",
              "      }\n",
              "    </script>\n",
              "  </div>\n",
              "\n",
              "\n",
              "<div id=\"df-00839a4e-a5fb-48cb-910b-c2d6335d2eb6\">\n",
              "  <button class=\"colab-df-quickchart\" onclick=\"quickchart('df-00839a4e-a5fb-48cb-910b-c2d6335d2eb6')\"\n",
              "            title=\"Suggest charts\"\n",
              "            style=\"display:none;\">\n",
              "\n",
              "<svg xmlns=\"http://www.w3.org/2000/svg\" height=\"24px\"viewBox=\"0 0 24 24\"\n",
              "     width=\"24px\">\n",
              "    <g>\n",
              "        <path d=\"M19 3H5c-1.1 0-2 .9-2 2v14c0 1.1.9 2 2 2h14c1.1 0 2-.9 2-2V5c0-1.1-.9-2-2-2zM9 17H7v-7h2v7zm4 0h-2V7h2v10zm4 0h-2v-4h2v4z\"/>\n",
              "    </g>\n",
              "</svg>\n",
              "  </button>\n",
              "\n",
              "<style>\n",
              "  .colab-df-quickchart {\n",
              "      --bg-color: #E8F0FE;\n",
              "      --fill-color: #1967D2;\n",
              "      --hover-bg-color: #E2EBFA;\n",
              "      --hover-fill-color: #174EA6;\n",
              "      --disabled-fill-color: #AAA;\n",
              "      --disabled-bg-color: #DDD;\n",
              "  }\n",
              "\n",
              "  [theme=dark] .colab-df-quickchart {\n",
              "      --bg-color: #3B4455;\n",
              "      --fill-color: #D2E3FC;\n",
              "      --hover-bg-color: #434B5C;\n",
              "      --hover-fill-color: #FFFFFF;\n",
              "      --disabled-bg-color: #3B4455;\n",
              "      --disabled-fill-color: #666;\n",
              "  }\n",
              "\n",
              "  .colab-df-quickchart {\n",
              "    background-color: var(--bg-color);\n",
              "    border: none;\n",
              "    border-radius: 50%;\n",
              "    cursor: pointer;\n",
              "    display: none;\n",
              "    fill: var(--fill-color);\n",
              "    height: 32px;\n",
              "    padding: 0;\n",
              "    width: 32px;\n",
              "  }\n",
              "\n",
              "  .colab-df-quickchart:hover {\n",
              "    background-color: var(--hover-bg-color);\n",
              "    box-shadow: 0 1px 2px rgba(60, 64, 67, 0.3), 0 1px 3px 1px rgba(60, 64, 67, 0.15);\n",
              "    fill: var(--button-hover-fill-color);\n",
              "  }\n",
              "\n",
              "  .colab-df-quickchart-complete:disabled,\n",
              "  .colab-df-quickchart-complete:disabled:hover {\n",
              "    background-color: var(--disabled-bg-color);\n",
              "    fill: var(--disabled-fill-color);\n",
              "    box-shadow: none;\n",
              "  }\n",
              "\n",
              "  .colab-df-spinner {\n",
              "    border: 2px solid var(--fill-color);\n",
              "    border-color: transparent;\n",
              "    border-bottom-color: var(--fill-color);\n",
              "    animation:\n",
              "      spin 1s steps(1) infinite;\n",
              "  }\n",
              "\n",
              "  @keyframes spin {\n",
              "    0% {\n",
              "      border-color: transparent;\n",
              "      border-bottom-color: var(--fill-color);\n",
              "      border-left-color: var(--fill-color);\n",
              "    }\n",
              "    20% {\n",
              "      border-color: transparent;\n",
              "      border-left-color: var(--fill-color);\n",
              "      border-top-color: var(--fill-color);\n",
              "    }\n",
              "    30% {\n",
              "      border-color: transparent;\n",
              "      border-left-color: var(--fill-color);\n",
              "      border-top-color: var(--fill-color);\n",
              "      border-right-color: var(--fill-color);\n",
              "    }\n",
              "    40% {\n",
              "      border-color: transparent;\n",
              "      border-right-color: var(--fill-color);\n",
              "      border-top-color: var(--fill-color);\n",
              "    }\n",
              "    60% {\n",
              "      border-color: transparent;\n",
              "      border-right-color: var(--fill-color);\n",
              "    }\n",
              "    80% {\n",
              "      border-color: transparent;\n",
              "      border-right-color: var(--fill-color);\n",
              "      border-bottom-color: var(--fill-color);\n",
              "    }\n",
              "    90% {\n",
              "      border-color: transparent;\n",
              "      border-bottom-color: var(--fill-color);\n",
              "    }\n",
              "  }\n",
              "</style>\n",
              "\n",
              "  <script>\n",
              "    async function quickchart(key) {\n",
              "      const quickchartButtonEl =\n",
              "        document.querySelector('#' + key + ' button');\n",
              "      quickchartButtonEl.disabled = true;  // To prevent multiple clicks.\n",
              "      quickchartButtonEl.classList.add('colab-df-spinner');\n",
              "      try {\n",
              "        const charts = await google.colab.kernel.invokeFunction(\n",
              "            'suggestCharts', [key], {});\n",
              "      } catch (error) {\n",
              "        console.error('Error during call to suggestCharts:', error);\n",
              "      }\n",
              "      quickchartButtonEl.classList.remove('colab-df-spinner');\n",
              "      quickchartButtonEl.classList.add('colab-df-quickchart-complete');\n",
              "    }\n",
              "    (() => {\n",
              "      let quickchartButtonEl =\n",
              "        document.querySelector('#df-00839a4e-a5fb-48cb-910b-c2d6335d2eb6 button');\n",
              "      quickchartButtonEl.style.display =\n",
              "        google.colab.kernel.accessAllowed ? 'block' : 'none';\n",
              "    })();\n",
              "  </script>\n",
              "</div>\n",
              "    </div>\n",
              "  </div>\n"
            ],
            "application/vnd.google.colaboratory.intrinsic+json": {
              "type": "dataframe",
              "variable_name": "dataframe"
            }
          },
          "metadata": {},
          "execution_count": 58
        }
      ]
    },
    {
      "cell_type": "markdown",
      "source": [
        "#####2.\tОбучение модели:\n",
        " - \tИспользуйте алгоритм WARP (Weighted Approximate-Rank Pairwise) для обучения модели.\n",
        " - \tУчтите, что LightFM принимает признаки пользователей и товаров в формате разреженных матриц.\n"
      ],
      "metadata": {
        "id": "hZmNyIYbFf_y"
      }
    },
    {
      "cell_type": "code",
      "source": [
        "ratings['User-ID'] = ratings['User-ID'].astype(str)\n",
        "ratings['ISBN'] = ratings['ISBN'].astype(str)\n",
        "ratings['Location'] = ratings['Location'].fillna('unknown').astype(str)\n",
        "ratings['Book-Author'] = ratings['Book-Author'].fillna('unknown').astype(str)"
      ],
      "metadata": {
        "id": "zexIn-HRIHTA"
      },
      "execution_count": 69,
      "outputs": []
    },
    {
      "cell_type": "code",
      "source": [
        "#Взаимодействия: пара (user, item)\n",
        "interactions, _ = dataset.build_interactions(\n",
        "    ((str(row['User-ID']), str(row['ISBN'])) for _, row in ratings.iterrows())\n",
        ")\n",
        "\n",
        "#Признаки пользователей\n",
        "user_features = dataset.build_user_features(\n",
        "    ((str(row['User-ID']), [str(row['Location'])]) for _, row in ratings.iterrows())\n",
        ")\n",
        "\n",
        "#Признаки товаров\n",
        "item_features = dataset.build_item_features(\n",
        "    ((str(row['ISBN']), [str(row['Book-Author'])]) for _, row in ratings.iterrows())\n",
        ")"
      ],
      "metadata": {
        "id": "YMfHi3MeFjr_"
      },
      "execution_count": 70,
      "outputs": []
    },
    {
      "cell_type": "code",
      "source": [
        "model = LightFM(loss='warp', random_state=42)\n",
        "model.fit(\n",
        "    interactions,\n",
        "    user_features=user_features,\n",
        "    item_features=item_features,\n",
        "    epochs=5,\n",
        "    num_threads=2\n",
        ")\n"
      ],
      "metadata": {
        "colab": {
          "base_uri": "https://localhost:8080/"
        },
        "id": "Aa95fvAIHB3g",
        "outputId": "6cad0886-2d9f-4217-cf32-6fe733d7a8f6"
      },
      "execution_count": 71,
      "outputs": [
        {
          "output_type": "execute_result",
          "data": {
            "text/plain": [
              "<lightfm.lightfm.LightFM at 0x7d4a7408bd10>"
            ]
          },
          "metadata": {},
          "execution_count": 71
        }
      ]
    },
    {
      "cell_type": "code",
      "source": [
        "auc = auc_score(\n",
        "    model, interactions,\n",
        "    user_features=user_features,\n",
        "    item_features=item_features\n",
        ").mean()\n",
        "\n",
        "precision = precision_at_k(\n",
        "    model, interactions,\n",
        "    user_features=user_features,\n",
        "    item_features=item_features,\n",
        "    k=10\n",
        ").mean()"
      ],
      "metadata": {
        "id": "6X_TFjhiGjJM"
      },
      "execution_count": 72,
      "outputs": []
    },
    {
      "cell_type": "code",
      "source": [
        "auc, precision"
      ],
      "metadata": {
        "colab": {
          "base_uri": "https://localhost:8080/"
        },
        "id": "R4Nm-ROvHLML",
        "outputId": "1a27ec8c-c42e-4c2f-b55c-b05fa8621eb7"
      },
      "execution_count": 73,
      "outputs": [
        {
          "output_type": "execute_result",
          "data": {
            "text/plain": [
              "(np.float32(0.82465076), np.float32(0.027480002))"
            ]
          },
          "metadata": {},
          "execution_count": 73
        }
      ]
    },
    {
      "cell_type": "markdown",
      "source": [
        "#####3.\tГенерация рекомендаций:\n",
        " - \tСоздайте список топ-N рекомендаций для нескольких пользователей.\n",
        " - \tДля проверки выберите хотя бы 5 пользователей.\n"
      ],
      "metadata": {
        "id": "I4RLQckwIUeY"
      }
    },
    {
      "cell_type": "code",
      "source": [
        "# Словари для отображения ISBN\n",
        "isbn_to_title = dict(zip(books['ISBN'], books['Book-Title']))\n",
        "isbn_to_author = dict(zip(books['ISBN'], books['Book-Author']))\n",
        "\n",
        "\n",
        "def recommend_books(model, user_id, interactions, user_features, item_features, n=5):\n",
        "    # Все уникальные книги\n",
        "    all_books = np.array(list(dataset.mapping()[2].keys()))\n",
        "\n",
        "    # Книги которые пользователь уже оценивал\n",
        "    user_index = dataset.mapping()[0][user_id]\n",
        "    known_positives = ratings[ratings['User-ID'] == user_id]['ISBN'].unique()\n",
        "\n",
        "    #ещё не взаимодействовали\n",
        "    unknown_books = [isbn for isbn in all_books if isbn not in known_positives]\n",
        "\n",
        "    scores = model.predict(\n",
        "        user_ids=user_index,\n",
        "        item_ids=np.array([dataset.mapping()[2][isbn] for isbn in unknown_books]),\n",
        "        user_features=user_features,\n",
        "        item_features=item_features\n",
        "    )\n",
        "\n",
        "    top_indices = np.argsort(-scores)[:n]\n",
        "    top_isbns = [unknown_books[i] for i in top_indices]\n",
        "\n",
        "    return [(isbn, isbn_to_title.get(isbn, \"Unknown\"), isbn_to_author.get(isbn, \"Unknown\")) for isbn in top_isbns]"
      ],
      "metadata": {
        "id": "AHukXuZRIcM8"
      },
      "execution_count": 74,
      "outputs": []
    },
    {
      "cell_type": "code",
      "source": [
        "sample_users = ratings['User-ID'].drop_duplicates().sample(5, random_state=42).tolist()\n",
        "\n",
        "for uid in sample_users:\n",
        "    print(f\"\\n Рекомендации для пользователя: {uid}\")\n",
        "\n",
        "    recommended = recommend_books(model, uid, interactions, user_features, item_features)\n",
        "    for idx, (isbn, title, author) in enumerate(recommended, 1):\n",
        "        print(f\"{idx}. {title} — {author}\")"
      ],
      "metadata": {
        "colab": {
          "base_uri": "https://localhost:8080/"
        },
        "id": "lNIvIblYJ9kw",
        "outputId": "a57ea8f7-1dfe-471c-de32-c6a96c00f539"
      },
      "execution_count": 75,
      "outputs": [
        {
          "output_type": "stream",
          "name": "stdout",
          "text": [
            "\n",
            " Рекомендации для пользователя: 81950\n",
            "1. Die Weiss Lowin / Contemporary German Lit — Henning Mankell\n",
            "2. Wilt — Tom Sharpe\n",
            "3. Die falsche FÃ?Â¤hrte. — Henning Mankell\n",
            "4. Der Hahn ist tot. Roman. — Ingrid Noll\n",
            "5. Hunde von Riga. — Henning Mankell\n",
            "\n",
            " Рекомендации для пользователя: 141203\n",
            "1. The New York Trilogy: City of Glass, Ghosts, the Locked Room (Contemporary American Fiction Series) — Paul Auster\n",
            "2. El Libro de Las Ilusiones — Paul Auster\n",
            "3. In the Country of Last Things (Contemporary American Fiction) — Paul Auster\n",
            "4. Timbuktu : A Novel — Paul Auster\n",
            "5. Wilt — Tom Sharpe\n",
            "\n",
            " Рекомендации для пользователя: 144318\n",
            "1. The Secret Life of Bees — Sue Monk Kidd\n",
            "2. Tuesdays with Morrie: An Old Man, a Young Man, and Life's Greatest Lesson — MITCH ALBOM\n",
            "3. The Secret Life of Bees — Sue Monk Kidd\n",
            "4. House of Sand and Fog — Andre Dubus III\n",
            "5. The Nanny Diaries: A Novel — Emma McLaughlin\n",
            "\n",
            " Рекомендации для пользователя: 57725\n",
            "1. The Secret Life of Bees — Sue Monk Kidd\n",
            "2. Tuesdays with Morrie: An Old Man, a Young Man, and Life's Greatest Lesson — MITCH ALBOM\n",
            "3. The Secret Life of Bees — Sue Monk Kidd\n",
            "4. The Nanny Diaries: A Novel — Emma McLaughlin\n",
            "5. House of Sand and Fog — Andre Dubus III\n",
            "\n",
            " Рекомендации для пользователя: 37030\n",
            "1. Tuesdays with Morrie: An Old Man, a Young Man, and Life's Greatest Lesson — MITCH ALBOM\n",
            "2. House of Sand and Fog — Andre Dubus III\n",
            "3. The Nanny Diaries: A Novel — Emma McLaughlin\n",
            "4. The Nanny Diaries: A Novel — Emma McLaughlin\n",
            "5. The Secret Life of Bees — Sue Monk Kidd\n"
          ]
        }
      ]
    },
    {
      "cell_type": "markdown",
      "source": [
        "#####4.\tОценка модели:\n",
        " - \tОцените производительность модели, используя метрики precision@k и AUC.\n",
        " - \tПроверьте результаты как на обучающем, так и на тестовом наборах данных.\n"
      ],
      "metadata": {
        "id": "kSVUJTnDIZEy"
      }
    },
    {
      "cell_type": "code",
      "source": [
        "auc, precision"
      ],
      "metadata": {
        "colab": {
          "base_uri": "https://localhost:8080/"
        },
        "outputId": "1a27ec8c-c42e-4c2f-b55c-b05fa8621eb7",
        "id": "2H1kC7YKKhpZ"
      },
      "execution_count": null,
      "outputs": [
        {
          "output_type": "execute_result",
          "data": {
            "text/plain": [
              "(np.float32(0.82465076), np.float32(0.027480002))"
            ]
          },
          "metadata": {},
          "execution_count": 73
        }
      ]
    },
    {
      "cell_type": "code",
      "source": [
        "from lightfm.cross_validation import random_train_test_split\n",
        "\n",
        "train, test = random_train_test_split(interactions, test_percentage=0.2, random_state=np.random.RandomState(42))\n",
        "\n",
        "model.fit(\n",
        "    train,\n",
        "    user_features=user_features,\n",
        "    item_features=item_features,\n",
        "    epochs=5,\n",
        "    num_threads=2\n",
        ")\n",
        "\n",
        "train_auc = auc_score(model, train, user_features=user_features, item_features=item_features).mean()\n",
        "train_precision = precision_at_k(model, train, user_features=user_features, item_features=item_features, k=10).mean()\n",
        "\n",
        "test_auc = auc_score(model, test, user_features=user_features, item_features=item_features).mean()\n",
        "test_precision = precision_at_k(model, test, user_features=user_features, item_features=item_features, k=10).mean()"
      ],
      "metadata": {
        "id": "w4rn64PWIW0X"
      },
      "execution_count": 76,
      "outputs": []
    },
    {
      "cell_type": "code",
      "source": [
        "train_auc, train_precision"
      ],
      "metadata": {
        "colab": {
          "base_uri": "https://localhost:8080/"
        },
        "id": "X4VpsEGKLyDf",
        "outputId": "3eb16c52-06c3-4fa5-d96e-f019420d956c"
      },
      "execution_count": 77,
      "outputs": [
        {
          "output_type": "execute_result",
          "data": {
            "text/plain": [
              "(np.float32(0.8503071), np.float32(0.022880001))"
            ]
          },
          "metadata": {},
          "execution_count": 77
        }
      ]
    },
    {
      "cell_type": "code",
      "source": [
        "test_auc, test_precision"
      ],
      "metadata": {
        "colab": {
          "base_uri": "https://localhost:8080/"
        },
        "id": "ASS4PAJNL07Y",
        "outputId": "88489633-02c9-4149-bb16-f651ba23b028"
      },
      "execution_count": 78,
      "outputs": [
        {
          "output_type": "execute_result",
          "data": {
            "text/plain": [
              "(np.float32(0.7096001), np.float32(0.0051100785))"
            ]
          },
          "metadata": {},
          "execution_count": 78
        }
      ]
    }
  ]
}